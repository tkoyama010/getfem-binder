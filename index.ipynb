{
 "cells": [
  {
   "cell_type": "markdown",
   "metadata": {},
   "source": [
    "# 単純支持の片持ち梁での検討\n",
    "\n",
    "GetFEM++を使用して単純支持の片持ち梁に荷重を与え、理論解との比較をします。"
   ]
  },
  {
   "cell_type": "code",
   "execution_count": 1,
   "metadata": {},
   "outputs": [],
   "source": [
    "import os\n",
    "import sys\n",
    "sys.path.append('../getfem/interface/src/python/')\n",
    "import getfem as gf\n",
    "import numpy as np"
   ]
  },
  {
   "cell_type": "markdown",
   "metadata": {},
   "source": [
    "検討するケースは次の通りです。GetFEM++において下に示す有限要素法と積分をそれぞれFEM_PRODUCTとIM_PRDOCTを使用して2次元化して使用します。2次要素についてはガウスの積分点が3として解析を行います。IM_GAUSS1D(K)はK/2+1点のガウス積分を表します。\n",
    "\n",
    "| ケース名 | 要素定式化       | 分割    | 有限要素法                     | 積分            |\n",
    "| -------- | ---------------- | ------- | ------------------------------ | --------------- |\n",
    "| case11   | 2次要素          | 1×4    | FEM_PK(1, 2)                   | IM_GAUSS1D(4)   |\n",
    "| case12   | 2次要素          | 2×4    | FEM_PK(1, 2)                   | IM_GAUSS1D(4)   |\n",
    "| case13   | 2次要素          | 4×4    | FEM_PK(1, 2)                   | IM_GAUSS1D(4)   |\n",
    "| case14   | 2次要素          | 8×16   | FEM_PK(1, 2)                   | IM_GAUSS1D(4)   |\n",
    "| case21   | 1次完全積分要素  | 1×4    | FEM_PK(1, 1)                   | IM_GAUSS1D(2)   |\n",
    "| case22   | 1次完全積分要素  | 2×4    | FEM_PK(1, 1)                   | IM_GAUSS1D(2)   |\n",
    "| case23   | 1次完全積分要素  | 4×4    | FEM_PK(1, 1)                   | IM_GAUSS1D(2)   |\n",
    "| case24   | 1次完全積分要素  | 8×16   | FEM_PK(1, 1)                   | IM_GAUSS1D(2)   |\n",
    "| case31   | 1次低減積分要素  | 1×4    | FEM_PK(1, 1)                   | IM_GAUSS1D(0)   |\n",
    "| case32   | 1次低減積分要素  | 2×4    | FEM_PK(1, 1)                   | IM_GAUSS1D(0)   |\n",
    "| case33   | 1次低減積分要素  | 4×4    | FEM_PK(1, 1)                   | IM_GAUSS1D(0)   |\n",
    "| case34   | 1次低減積分要素  | 8×16   | FEM_PK(1, 1)                   | IM_GAUSS1D(0)   |\n",
    "| case41   | 1次非適合要素    | 1×4    | FEM_PK_WITH_CUBIC_BUBBLE(1, 1) | IM_GAUSS1D(4)   |\n",
    "| case42   | 1次非適合要素    | 2×4    | FEM_PK_WITH_CUBIC_BUBBLE(1, 1) | IM_GAUSS1D(4)   |\n",
    "| case43   | 1次非適合要素    | 4×4    | FEM_PK_WITH_CUBIC_BUBBLE(1, 1) | IM_GAUSS1D(4)   |\n",
    "| case44   | 1次非適合要素    | 8×16   | FEM_PK_WITH_CUBIC_BUBBLE(1, 1) | IM_GAUSS1D(4)   |\n",
    "\n",
    "それでは、これらの有限要素法と積分法をそれぞれ設定します。メッシュを最初に設定します。モデル全体のサイズはX方向に10、Y方向に1とします。一般的に細長比（スレンダー比）が1:10であれば梁とみなせると言われています。(http://femingway.com/?p=1310)"
   ]
  },
  {
   "cell_type": "code",
   "execution_count": 2,
   "metadata": {},
   "outputs": [],
   "source": [
    "x = 10.0\n",
    "y = 1.0\n",
    "\n",
    "x01 = np.arange(1+1)*1/1\n",
    "x04 = np.arange(4+1)*x/4\n",
    "x16 = np.arange(16+1)*x/16\n",
    "\n",
    "y01 = np.arange(1+1)*y/1\n",
    "y02 = np.arange(2+1)*y/2\n",
    "y04 = np.arange(4+1)*y/4\n",
    "y08 = np.arange(8+1)*y/8\n",
    "\n",
    "m0101 = gf.Mesh('cartesian', x01, y01)\n",
    "m0104 = gf.Mesh('cartesian', x04, y01)\n",
    "m0204 = gf.Mesh('cartesian', x04, y02)\n",
    "m0404 = gf.Mesh('cartesian', x04, y04)\n",
    "m0816 = gf.Mesh('cartesian', x16, y08)\n",
    "\n",
    "m0101.export_to_vtk('m0101.vtk')\n",
    "m0104.export_to_vtk('m0104.vtk')\n",
    "m0204.export_to_vtk('m0204.vtk')\n",
    "m0404.export_to_vtk('m0404.vtk')\n",
    "m0816.export_to_vtk('m0816.vtk')"
   ]
  },
  {
   "cell_type": "code",
   "execution_count": 3,
   "metadata": {},
   "outputs": [],
   "source": [
    "def plot_vtk(filename, picturename):\n",
    "    from mayavi import mlab\n",
    "    mlab.init_notebook()\n",
    "    vtk_file_reader = mlab.pipeline.open(filename)\n",
    "    extract_edges = mlab.pipeline.extract_edges(vtk_file_reader)\n",
    "    surface = mlab.pipeline.surface(extract_edges)\n",
    "    axes = mlab.axes(surface)\n",
    "    \n",
    "    mlab.show()\n",
    "    mlab.savefig(picturename)\n",
    "    mlab.clf()\n",
    "    from IPython.display import Image, display_png\n",
    "    display_png(Image(picturename))"
   ]
  },
  {
   "cell_type": "code",
   "execution_count": 4,
   "metadata": {},
   "outputs": [
    {
     "name": "stdout",
     "output_type": "stream",
     "text": [
      "Notebook initialized with ipy backend.\n"
     ]
    },
    {
     "data": {
      "image/png": "[encoded data removed]"
     },
     "metadata": {},
     "output_type": "display_data"
    }
   ],
   "source": [
    "plot_vtk(filename = 'm0101.vtk', picturename = 'm0101.png')"
   ]
  },
  {
   "cell_type": "markdown",
   "metadata": {},
   "source": [
    "1×4のメッシュを表示します。"
   ]
  },
  {
   "cell_type": "code",
   "execution_count": 5,
   "metadata": {},
   "outputs": [
    {
     "name": "stdout",
     "output_type": "stream",
     "text": [
      "Notebook initialized with ipy backend.\n"
     ]
    },
    {
     "data": {
      "image/png": "[encoded data removed]"
     },
     "metadata": {},
     "output_type": "display_data"
    }
   ],
   "source": [
    "plot_vtk(filename = 'm0104.vtk', picturename = 'm0104.png')"
   ]
  },
  {
   "cell_type": "markdown",
   "metadata": {},
   "source": [
    "2×4のメッシュを表示します。"
   ]
  },
  {
   "cell_type": "code",
   "execution_count": 6,
   "metadata": {},
   "outputs": [
    {
     "name": "stdout",
     "output_type": "stream",
     "text": [
      "Notebook initialized with ipy backend.\n"
     ]
    },
    {
     "data": {
      "image/png": "[encoded data removed]"
     },
     "metadata": {},
     "output_type": "display_data"
    }
   ],
   "source": [
    "plot_vtk(filename = 'm0204.vtk', picturename = 'm0204.png')"
   ]
  },
  {
   "cell_type": "markdown",
   "metadata": {},
   "source": [
    "4×4のメッシュを表示します。"
   ]
  },
  {
   "cell_type": "code",
   "execution_count": 7,
   "metadata": {},
   "outputs": [
    {
     "name": "stdout",
     "output_type": "stream",
     "text": [
      "Notebook initialized with ipy backend.\n"
     ]
    },
    {
     "data": {
      "image/png": "[encoded data removed]"
     },
     "metadata": {},
     "output_type": "display_data"
    }
   ],
   "source": [
    "plot_vtk(filename = 'm0404.vtk', picturename = 'm0404.png')"
   ]
  },
  {
   "cell_type": "markdown",
   "metadata": {},
   "source": [
    "8×16のメッシュを表示します。"
   ]
  },
  {
   "cell_type": "code",
   "execution_count": 8,
   "metadata": {},
   "outputs": [
    {
     "name": "stdout",
     "output_type": "stream",
     "text": [
      "Notebook initialized with ipy backend.\n"
     ]
    },
    {
     "data": {
      "image/png": "[encoded data removed]"
     },
     "metadata": {},
     "output_type": "display_data"
    }
   ],
   "source": [
    "plot_vtk(filename = 'm0816.vtk', picturename = 'm0816.png')"
   ]
  },
  {
   "cell_type": "markdown",
   "metadata": {},
   "source": [
    "各メッシュの左側面にDirichlet条件を設定するための境界領域を設定します。各メッシュの右側面にNeumann条件を設定するための境界領域を設定します。"
   ]
  },
  {
   "cell_type": "code",
   "execution_count": 9,
   "metadata": {},
   "outputs": [],
   "source": [
    "flst0104 = m0104.outer_faces()\n",
    "flst0204 = m0204.outer_faces()\n",
    "flst0404 = m0404.outer_faces()\n",
    "flst0816 = m0816.outer_faces()\n",
    "\n",
    "fnor0104 = m0104.normal_of_faces(flst0104)\n",
    "fnor0204 = m0204.normal_of_faces(flst0204)\n",
    "fnor0404 = m0404.normal_of_faces(flst0404)\n",
    "fnor0816 = m0816.normal_of_faces(flst0816)\n",
    "\n",
    "tright0104 = abs(fnor0104[0, :] - 1) < 1e-14\n",
    "tright0204 = abs(fnor0204[0, :] - 1) < 1e-14\n",
    "tright0404 = abs(fnor0404[0, :] - 1) < 1e-14\n",
    "tright0816 = abs(fnor0816[0, :] - 1) < 1e-14\n",
    "\n",
    "tleft0104 = abs(fnor0104[0, :] + 1) < 1e-14\n",
    "tleft0204 = abs(fnor0204[0, :] + 1) < 1e-14\n",
    "tleft0404 = abs(fnor0404[0, :] + 1) < 1e-14\n",
    "tleft0816 = abs(fnor0816[0, :] + 1) < 1e-14\n",
    "\n",
    "fright0104 = np.compress(tright0104, flst0104, axis=1)\n",
    "fright0204 = np.compress(tright0204, flst0204, axis=1)\n",
    "fright0404 = np.compress(tright0404, flst0404, axis=1)\n",
    "fright0816 = np.compress(tright0816, flst0816, axis=1)\n",
    "\n",
    "fleft0104 = np.compress(tleft0104, flst0104, axis=1)\n",
    "fleft0204 = np.compress(tleft0204, flst0204, axis=1)\n",
    "fleft0404 = np.compress(tleft0404, flst0404, axis=1)\n",
    "fleft0816 = np.compress(tleft0816, flst0816, axis=1)\n",
    "\n",
    "right = 1\n",
    "left = 2\n",
    "\n",
    "m0104.set_region(right, fright0104)\n",
    "m0204.set_region(right, fright0204)\n",
    "m0404.set_region(right, fright0404)\n",
    "m0816.set_region(right, fright0816)\n",
    "\n",
    "m0104.set_region(left, fleft0104)\n",
    "m0204.set_region(left, fleft0204)\n",
    "m0404.set_region(left, fleft0404)\n",
    "m0816.set_region(left, fleft0816)"
   ]
  },
  {
   "cell_type": "markdown",
   "metadata": {},
   "source": [
    "MeshFEMオブジェクトを作成し各メッシュと有限要素法を関連付けます。"
   ]
  },
  {
   "cell_type": "code",
   "execution_count": 10,
   "metadata": {},
   "outputs": [],
   "source": [
    "mfu11 = gf.MeshFem(m0104, 2)\n",
    "mfu12 = gf.MeshFem(m0204, 2)\n",
    "mfu13 = gf.MeshFem(m0404, 2)\n",
    "mfu14 = gf.MeshFem(m0816, 2)\n",
    "mfu21 = gf.MeshFem(m0104, 2)\n",
    "mfu22 = gf.MeshFem(m0204, 2)\n",
    "mfu23 = gf.MeshFem(m0404, 2)\n",
    "mfu24 = gf.MeshFem(m0816, 2)\n",
    "mfu31 = gf.MeshFem(m0104, 2)\n",
    "mfu32 = gf.MeshFem(m0204, 2)\n",
    "mfu33 = gf.MeshFem(m0404, 2)\n",
    "mfu34 = gf.MeshFem(m0816, 2)\n",
    "mfu41 = gf.MeshFem(m0104, 2)\n",
    "mfu42 = gf.MeshFem(m0204, 2)\n",
    "mfu43 = gf.MeshFem(m0404, 2)\n",
    "mfu44 = gf.MeshFem(m0816, 2)\n",
    "\n",
    "fem1 = gf.Fem('FEM_PRODUCT(FEM_PK(1, 2), FEM_PK(1, 2))') # 2次要素\n",
    "fem2 = gf.Fem('FEM_PRODUCT(FEM_PK(1, 1), FEM_PK(1, 1))') # 1次要素\n",
    "fem3 = gf.Fem('FEM_PRODUCT(FEM_PK(1, 1), FEM_PK(1, 1))') # 1次要素\n",
    "fem4 = gf.Fem('FEM_PRODUCT(FEM_PK_WITH_CUBIC_BUBBLE(1, 1), FEM_PK_WITH_CUBIC_BUBBLE(1, 1))') # 非適合要素\n",
    "\n",
    "mfu11.set_fem(fem1)\n",
    "mfu12.set_fem(fem1)\n",
    "mfu13.set_fem(fem1)\n",
    "mfu14.set_fem(fem1)\n",
    "mfu21.set_fem(fem2)\n",
    "mfu22.set_fem(fem2)\n",
    "mfu23.set_fem(fem2)\n",
    "mfu24.set_fem(fem2)\n",
    "mfu31.set_fem(fem3)\n",
    "mfu32.set_fem(fem3)\n",
    "mfu33.set_fem(fem3)\n",
    "mfu34.set_fem(fem3)\n",
    "mfu41.set_fem(fem4)\n",
    "mfu42.set_fem(fem4)\n",
    "mfu43.set_fem(fem4)\n",
    "mfu44.set_fem(fem4)"
   ]
  },
  {
   "cell_type": "markdown",
   "metadata": {},
   "source": [
    "積分法を定義します。"
   ]
  },
  {
   "cell_type": "code",
   "execution_count": 11,
   "metadata": {},
   "outputs": [],
   "source": [
    "inm1 = gf.Integ('IM_PRODUCT(IM_GAUSS1D(4), IM_GAUSS1D(4))') # 2次完全積分\n",
    "inm2 = gf.Integ('IM_PRODUCT(IM_GAUSS1D(2), IM_GAUSS1D(2))') # 1次完全積分\n",
    "inm3 = gf.Integ('IM_PRODUCT(IM_GAUSS1D(0), IM_GAUSS1D(0))') # 1次低減積分\n",
    "inm4 = gf.Integ('IM_PRODUCT(IM_GAUSS1D(4), IM_GAUSS1D(4))') # 非適合要素完全積分"
   ]
  },
  {
   "cell_type": "code",
   "execution_count": 12,
   "metadata": {},
   "outputs": [],
   "source": [
    "mim11 = gf.MeshIm(m0104, inm1)\n",
    "mim12 = gf.MeshIm(m0204, inm1)\n",
    "mim13 = gf.MeshIm(m0404, inm1)\n",
    "mim14 = gf.MeshIm(m0816, inm1)\n",
    "mim21 = gf.MeshIm(m0104, inm2)\n",
    "mim22 = gf.MeshIm(m0204, inm2)\n",
    "mim23 = gf.MeshIm(m0404, inm2)\n",
    "mim24 = gf.MeshIm(m0816, inm2)\n",
    "mim31 = gf.MeshIm(m0104, inm3)\n",
    "mim32 = gf.MeshIm(m0204, inm3)\n",
    "mim33 = gf.MeshIm(m0404, inm3)\n",
    "mim34 = gf.MeshIm(m0816, inm3)\n",
    "mim41 = gf.MeshIm(m0104, inm4)\n",
    "mim42 = gf.MeshIm(m0204, inm4)\n",
    "mim43 = gf.MeshIm(m0404, inm4)\n",
    "mim44 = gf.MeshIm(m0816, inm4)"
   ]
  },
  {
   "cell_type": "markdown",
   "metadata": {},
   "source": [
    "モデルを定義し、各ケースの変数を追加します。"
   ]
  },
  {
   "cell_type": "code",
   "execution_count": 13,
   "metadata": {},
   "outputs": [],
   "source": [
    "md11 = gf.Model('real')\n",
    "md12 = gf.Model('real')\n",
    "md13 = gf.Model('real')\n",
    "md14 = gf.Model('real')\n",
    "md21 = gf.Model('real')\n",
    "md22 = gf.Model('real')\n",
    "md23 = gf.Model('real')\n",
    "md24 = gf.Model('real')\n",
    "md31 = gf.Model('real')\n",
    "md32 = gf.Model('real')\n",
    "md33 = gf.Model('real')\n",
    "md34 = gf.Model('real')\n",
    "md41 = gf.Model('real')\n",
    "md42 = gf.Model('real')\n",
    "md43 = gf.Model('real')\n",
    "md44 = gf.Model('real')"
   ]
  },
  {
   "cell_type": "code",
   "execution_count": 14,
   "metadata": {},
   "outputs": [],
   "source": [
    "md11.add_fem_variable('u11', mfu11)\n",
    "md12.add_fem_variable('u12', mfu12)\n",
    "md13.add_fem_variable('u13', mfu13)\n",
    "md14.add_fem_variable('u14', mfu14)\n",
    "md21.add_fem_variable('u21', mfu21)\n",
    "md22.add_fem_variable('u22', mfu22)\n",
    "md23.add_fem_variable('u23', mfu23)\n",
    "md24.add_fem_variable('u24', mfu24)\n",
    "md31.add_fem_variable('u31', mfu31)\n",
    "md32.add_fem_variable('u32', mfu32)\n",
    "md33.add_fem_variable('u33', mfu33)\n",
    "md34.add_fem_variable('u34', mfu34)\n",
    "md41.add_fem_variable('u41', mfu41)\n",
    "md42.add_fem_variable('u42', mfu42)\n",
    "md43.add_fem_variable('u43', mfu43)\n",
    "md44.add_fem_variable('u44', mfu44)"
   ]
  },
  {
   "cell_type": "markdown",
   "metadata": {},
   "source": [
    "各変位に対し剛性行列を追加します。ヤング率を$E = 1.0 \\times 10^3$ポアソン比を$\\nu = 0.3$とします。"
   ]
  },
  {
   "cell_type": "code",
   "execution_count": 15,
   "metadata": {},
   "outputs": [],
   "source": [
    "E = 1e3\n",
    "Nu = 0.3\n",
    "\n",
    "md11.add_initialized_data('E', E)\n",
    "md12.add_initialized_data('E', E)\n",
    "md13.add_initialized_data('E', E)\n",
    "md14.add_initialized_data('E', E)\n",
    "md21.add_initialized_data('E', E)\n",
    "md22.add_initialized_data('E', E)\n",
    "md23.add_initialized_data('E', E)\n",
    "md24.add_initialized_data('E', E)\n",
    "md31.add_initialized_data('E', E)\n",
    "md32.add_initialized_data('E', E)\n",
    "md33.add_initialized_data('E', E)\n",
    "md34.add_initialized_data('E', E)\n",
    "md41.add_initialized_data('E', E)\n",
    "md42.add_initialized_data('E', E)\n",
    "md43.add_initialized_data('E', E)\n",
    "md44.add_initialized_data('E', E)\n",
    "md11.add_initialized_data('Nu', Nu)\n",
    "md12.add_initialized_data('Nu', Nu)\n",
    "md13.add_initialized_data('Nu', Nu)\n",
    "md14.add_initialized_data('Nu', Nu)\n",
    "md21.add_initialized_data('Nu', Nu)\n",
    "md22.add_initialized_data('Nu', Nu)\n",
    "md23.add_initialized_data('Nu', Nu)\n",
    "md24.add_initialized_data('Nu', Nu)\n",
    "md31.add_initialized_data('Nu', Nu)\n",
    "md32.add_initialized_data('Nu', Nu)\n",
    "md33.add_initialized_data('Nu', Nu)\n",
    "md34.add_initialized_data('Nu', Nu)\n",
    "md41.add_initialized_data('Nu', Nu)\n",
    "md42.add_initialized_data('Nu', Nu)\n",
    "md43.add_initialized_data('Nu', Nu)\n",
    "md44.add_initialized_data('Nu', Nu)"
   ]
  },
  {
   "cell_type": "code",
   "execution_count": 16,
   "metadata": {},
   "outputs": [
    {
     "data": {
      "text/plain": [
       "0"
      ]
     },
     "execution_count": 16,
     "metadata": {},
     "output_type": "execute_result"
    }
   ],
   "source": [
    "md11.add_isotropic_linearized_elasticity_brick_pstrain(mim11, 'u11', 'E', 'Nu')\n",
    "md12.add_isotropic_linearized_elasticity_brick_pstrain(mim12, 'u12', 'E', 'Nu')\n",
    "md13.add_isotropic_linearized_elasticity_brick_pstrain(mim13, 'u13', 'E', 'Nu')\n",
    "md14.add_isotropic_linearized_elasticity_brick_pstrain(mim14, 'u14', 'E', 'Nu')\n",
    "md21.add_isotropic_linearized_elasticity_brick_pstrain(mim21, 'u21', 'E', 'Nu')\n",
    "md22.add_isotropic_linearized_elasticity_brick_pstrain(mim22, 'u22', 'E', 'Nu')\n",
    "md23.add_isotropic_linearized_elasticity_brick_pstrain(mim23, 'u23', 'E', 'Nu')\n",
    "md24.add_isotropic_linearized_elasticity_brick_pstrain(mim24, 'u24', 'E', 'Nu')\n",
    "md31.add_isotropic_linearized_elasticity_brick_pstrain(mim31, 'u31', 'E', 'Nu')\n",
    "md32.add_isotropic_linearized_elasticity_brick_pstrain(mim32, 'u32', 'E', 'Nu')\n",
    "md33.add_isotropic_linearized_elasticity_brick_pstrain(mim33, 'u33', 'E', 'Nu')\n",
    "md34.add_isotropic_linearized_elasticity_brick_pstrain(mim34, 'u34', 'E', 'Nu')\n",
    "md41.add_isotropic_linearized_elasticity_brick_pstrain(mim41, 'u41', 'E', 'Nu')\n",
    "md42.add_isotropic_linearized_elasticity_brick_pstrain(mim42, 'u42', 'E', 'Nu')\n",
    "md43.add_isotropic_linearized_elasticity_brick_pstrain(mim43, 'u43', 'E', 'Nu')\n",
    "md44.add_isotropic_linearized_elasticity_brick_pstrain(mim44, 'u44', 'E', 'Nu')"
   ]
  },
  {
   "cell_type": "markdown",
   "metadata": {},
   "source": [
    "各変数について、左側面にDirichlet境界条件を設定します。"
   ]
  },
  {
   "cell_type": "code",
   "execution_count": 17,
   "metadata": {},
   "outputs": [
    {
     "data": {
      "text/plain": [
       "1"
      ]
     },
     "execution_count": 17,
     "metadata": {},
     "output_type": "execute_result"
    }
   ],
   "source": [
    "md11.add_Dirichlet_condition_with_simplification('u11', left)\n",
    "md12.add_Dirichlet_condition_with_simplification('u12', left)\n",
    "md13.add_Dirichlet_condition_with_simplification('u13', left)\n",
    "md14.add_Dirichlet_condition_with_simplification('u14', left)\n",
    "md21.add_Dirichlet_condition_with_simplification('u21', left)\n",
    "md22.add_Dirichlet_condition_with_simplification('u22', left)\n",
    "md23.add_Dirichlet_condition_with_simplification('u23', left)\n",
    "md24.add_Dirichlet_condition_with_simplification('u24', left)\n",
    "md31.add_Dirichlet_condition_with_simplification('u31', left)\n",
    "md32.add_Dirichlet_condition_with_simplification('u32', left)\n",
    "md33.add_Dirichlet_condition_with_simplification('u33', left)\n",
    "md34.add_Dirichlet_condition_with_simplification('u34', left)\n",
    "md41.add_Dirichlet_condition_with_multipliers(mim41, 'u41', mfu41, left)\n",
    "md42.add_Dirichlet_condition_with_multipliers(mim42, 'u42', mfu42, left)\n",
    "md43.add_Dirichlet_condition_with_multipliers(mim43, 'u43', mfu43, left)\n",
    "md44.add_Dirichlet_condition_with_multipliers(mim44, 'u44', mfu44, left)"
   ]
  },
  {
   "cell_type": "markdown",
   "metadata": {},
   "source": [
    "各変数について、右側面にNeumann境界条件を設定します。"
   ]
  },
  {
   "cell_type": "code",
   "execution_count": 18,
   "metadata": {},
   "outputs": [],
   "source": [
    "md11.add_fem_data('F11', mfu11)\n",
    "md12.add_fem_data('F12', mfu12)\n",
    "md13.add_fem_data('F13', mfu13)\n",
    "md14.add_fem_data('F14', mfu14)\n",
    "md21.add_fem_data('F21', mfu21)\n",
    "md22.add_fem_data('F22', mfu22)\n",
    "md23.add_fem_data('F23', mfu23)\n",
    "md24.add_fem_data('F24', mfu24)\n",
    "md31.add_fem_data('F31', mfu31)\n",
    "md32.add_fem_data('F32', mfu32)\n",
    "md33.add_fem_data('F33', mfu33)\n",
    "md34.add_fem_data('F34', mfu34)\n",
    "md41.add_fem_data('F41', mfu41)\n",
    "md42.add_fem_data('F42', mfu42)\n",
    "md43.add_fem_data('F43', mfu43)\n",
    "md44.add_fem_data('F44', mfu44)"
   ]
  },
  {
   "cell_type": "code",
   "execution_count": 19,
   "metadata": {},
   "outputs": [],
   "source": [
    "F11 = np.zeros(mfu11.nbdof())\n",
    "F12 = np.zeros(mfu12.nbdof())\n",
    "F13 = np.zeros(mfu13.nbdof())\n",
    "F14 = np.zeros(mfu14.nbdof())\n",
    "F21 = np.zeros(mfu21.nbdof())\n",
    "F22 = np.zeros(mfu22.nbdof())\n",
    "F23 = np.zeros(mfu23.nbdof())\n",
    "F24 = np.zeros(mfu24.nbdof())\n",
    "F31 = np.zeros(mfu31.nbdof())\n",
    "F32 = np.zeros(mfu32.nbdof())\n",
    "F33 = np.zeros(mfu33.nbdof())\n",
    "F34 = np.zeros(mfu34.nbdof())\n",
    "F41 = np.zeros(mfu41.nbdof())\n",
    "F42 = np.zeros(mfu42.nbdof())\n",
    "F43 = np.zeros(mfu43.nbdof())\n",
    "F44 = np.zeros(mfu44.nbdof())"
   ]
  },
  {
   "cell_type": "code",
   "execution_count": 20,
   "metadata": {},
   "outputs": [],
   "source": [
    "F11[1::2] = 1.0\n",
    "F12[1::2] = 1.0\n",
    "F13[1::2] = 1.0\n",
    "F14[1::2] = 1.0\n",
    "F21[1::2] = 1.0\n",
    "F22[1::2] = 1.0\n",
    "F23[1::2] = 1.0\n",
    "F24[1::2] = 1.0\n",
    "F31[1::2] = 1.0\n",
    "F32[1::2] = 1.0\n",
    "F33[1::2] = 1.0\n",
    "F34[1::2] = 1.0\n",
    "F41[1::2] = 1.0\n",
    "F42[1::2] = 1.0\n",
    "F43[1::2] = 1.0\n",
    "F44[1::2] = 1.0"
   ]
  },
  {
   "cell_type": "code",
   "execution_count": 21,
   "metadata": {},
   "outputs": [],
   "source": [
    "md11.set_variable('F11', F11)\n",
    "md12.set_variable('F12', F12)\n",
    "md13.set_variable('F13', F13)\n",
    "md14.set_variable('F14', F14)\n",
    "md21.set_variable('F21', F21)\n",
    "md22.set_variable('F22', F22)\n",
    "md23.set_variable('F23', F23)\n",
    "md24.set_variable('F24', F24)\n",
    "md31.set_variable('F31', F31)\n",
    "md32.set_variable('F32', F32)\n",
    "md33.set_variable('F33', F33)\n",
    "md34.set_variable('F34', F34)\n",
    "md41.set_variable('F41', F41)\n",
    "md42.set_variable('F42', F42)\n",
    "md43.set_variable('F43', F43)\n",
    "md44.set_variable('F44', F44)"
   ]
  },
  {
   "cell_type": "code",
   "execution_count": 22,
   "metadata": {},
   "outputs": [
    {
     "data": {
      "text/plain": [
       "2"
      ]
     },
     "execution_count": 22,
     "metadata": {},
     "output_type": "execute_result"
    }
   ],
   "source": [
    "md11.add_source_term_brick(mim11, 'u11', 'F11', right)\n",
    "md12.add_source_term_brick(mim12, 'u12', 'F12', right)\n",
    "md13.add_source_term_brick(mim13, 'u13', 'F13', right)\n",
    "md14.add_source_term_brick(mim14, 'u14', 'F14', right)\n",
    "md21.add_source_term_brick(mim21, 'u21', 'F21', right)\n",
    "md22.add_source_term_brick(mim22, 'u22', 'F22', right)\n",
    "md23.add_source_term_brick(mim23, 'u23', 'F23', right)\n",
    "md24.add_source_term_brick(mim24, 'u24', 'F24', right)\n",
    "md31.add_source_term_brick(mim31, 'u31', 'F31', right)\n",
    "md32.add_source_term_brick(mim32, 'u32', 'F32', right)\n",
    "md33.add_source_term_brick(mim33, 'u33', 'F33', right)\n",
    "md34.add_source_term_brick(mim34, 'u34', 'F34', right)\n",
    "md41.add_source_term_brick(mim41, 'u41', 'F41', right)\n",
    "md42.add_source_term_brick(mim42, 'u42', 'F42', right)\n",
    "md43.add_source_term_brick(mim43, 'u43', 'F43', right)\n",
    "md44.add_source_term_brick(mim44, 'u44', 'F44', right)"
   ]
  },
  {
   "cell_type": "markdown",
   "metadata": {},
   "source": [
    "各変数に対して構築したためモデルmdを解きます。"
   ]
  },
  {
   "cell_type": "code",
   "execution_count": 23,
   "metadata": {},
   "outputs": [
    {
     "data": {
      "text/plain": [
       "(0, 1)"
      ]
     },
     "execution_count": 23,
     "metadata": {},
     "output_type": "execute_result"
    }
   ],
   "source": [
    "md11.solve()\n",
    "md12.solve()\n",
    "md13.solve()\n",
    "md14.solve()\n",
    "md21.solve()\n",
    "md22.solve()\n",
    "md23.solve()\n",
    "md24.solve()\n",
    "md31.solve()\n",
    "md32.solve()\n",
    "md33.solve()\n",
    "md34.solve()\n",
    "md41.solve()\n",
    "md42.solve()\n",
    "md43.solve()\n",
    "md44.solve()"
   ]
  },
  {
   "cell_type": "code",
   "execution_count": 24,
   "metadata": {},
   "outputs": [],
   "source": [
    "u11 = md11.variable('u11')\n",
    "u12 = md12.variable('u12')\n",
    "u13 = md13.variable('u13')\n",
    "u14 = md14.variable('u14')\n",
    "u21 = md21.variable('u21')\n",
    "u22 = md22.variable('u22')\n",
    "u23 = md23.variable('u23')\n",
    "u24 = md24.variable('u24')\n",
    "u31 = md31.variable('u31')\n",
    "u32 = md32.variable('u32')\n",
    "u33 = md33.variable('u33')\n",
    "u34 = md34.variable('u34')\n",
    "u41 = md41.variable('u41')\n",
    "u42 = md42.variable('u42')\n",
    "u43 = md43.variable('u43')\n",
    "u44 = md44.variable('u44')"
   ]
  },
  {
   "cell_type": "code",
   "execution_count": 25,
   "metadata": {},
   "outputs": [],
   "source": [
    "mfu11.export_to_vtk('u11.vtk', 'ascii', mfu11, u11, 'u11')\n",
    "mfu12.export_to_vtk('u12.vtk', 'ascii', mfu12, u12, 'u12')\n",
    "mfu13.export_to_vtk('u13.vtk', 'ascii', mfu13, u13, 'u13')\n",
    "mfu14.export_to_vtk('u14.vtk', 'ascii', mfu14, u14, 'u14')\n",
    "mfu21.export_to_vtk('u21.vtk', 'ascii', mfu21, u21, 'u21')\n",
    "mfu22.export_to_vtk('u22.vtk', 'ascii', mfu22, u22, 'u22')\n",
    "mfu23.export_to_vtk('u23.vtk', 'ascii', mfu23, u23, 'u23')\n",
    "mfu24.export_to_vtk('u24.vtk', 'ascii', mfu24, u24, 'u24')\n",
    "mfu31.export_to_vtk('u31.vtk', 'ascii', mfu31, u31, 'u31')\n",
    "mfu32.export_to_vtk('u32.vtk', 'ascii', mfu32, u32, 'u32')\n",
    "mfu33.export_to_vtk('u33.vtk', 'ascii', mfu33, u33, 'u33')\n",
    "mfu34.export_to_vtk('u34.vtk', 'ascii', mfu34, u34, 'u34')\n",
    "mfu41.export_to_vtk('u41.vtk', 'ascii', mfu41, u41, 'u41')\n",
    "mfu42.export_to_vtk('u42.vtk', 'ascii', mfu42, u42, 'u42')\n",
    "mfu43.export_to_vtk('u43.vtk', 'ascii', mfu43, u43, 'u43')\n",
    "mfu44.export_to_vtk('u44.vtk', 'ascii', mfu44, u44, 'u44')"
   ]
  },
  {
   "cell_type": "code",
   "execution_count": 26,
   "metadata": {},
   "outputs": [],
   "source": [
    "def plot_vtk2(filename, picturename):\n",
    "    from mayavi import mlab\n",
    "    mlab.init_notebook()\n",
    "    vtk_file_reader = mlab.pipeline.open(filename)\n",
    "    extract_edges = mlab.pipeline.extract_edges(vtk_file_reader)\n",
    "    warp_vector = mlab.pipeline.warp_vector(extract_edges)\n",
    "    surface = mlab.pipeline.surface(warp_vector)\n",
    "    axes = mlab.axes(surface)\n",
    "\n",
    "    mlab.show()\n",
    "    mlab.savefig(picturename)\n",
    "    mlab.clf()\n",
    "    from IPython.display import Image, display_png\n",
    "    display_png(Image(picturename))"
   ]
  },
  {
   "cell_type": "markdown",
   "metadata": {},
   "source": [
    "各出力をプロットします。"
   ]
  },
  {
   "cell_type": "code",
   "execution_count": 27,
   "metadata": {},
   "outputs": [
    {
     "name": "stdout",
     "output_type": "stream",
     "text": [
      "Notebook initialized with ipy backend.\n"
     ]
    },
    {
     "data": {
      "image/png": "[encoded data removed]"
     },
     "metadata": {},
     "output_type": "display_data"
    }
   ],
   "source": [
    "plot_vtk2('u11.vtk', 'u11.png')"
   ]
  },
  {
   "cell_type": "code",
   "execution_count": 28,
   "metadata": {},
   "outputs": [
    {
     "name": "stdout",
     "output_type": "stream",
     "text": [
      "Notebook initialized with ipy backend.\n"
     ]
    },
    {
     "data": {
      "image/png": "[encoded data removed]"
     },
     "metadata": {},
     "output_type": "display_data"
    }
   ],
   "source": [
    "plot_vtk2('u12.vtk', 'u12.png')"
   ]
  },
  {
   "cell_type": "code",
   "execution_count": 29,
   "metadata": {},
   "outputs": [
    {
     "name": "stdout",
     "output_type": "stream",
     "text": [
      "Notebook initialized with ipy backend.\n"
     ]
    },
    {
     "data": {
      "image/png": "[encoded data removed]"
     },
     "metadata": {},
     "output_type": "display_data"
    }
   ],
   "source": [
    "plot_vtk2('u13.vtk', 'u13.png')"
   ]
  },
  {
   "cell_type": "code",
   "execution_count": 30,
   "metadata": {},
   "outputs": [
    {
     "name": "stdout",
     "output_type": "stream",
     "text": [
      "Notebook initialized with ipy backend.\n"
     ]
    },
    {
     "data": {
      "image/png": "[encoded data removed]"
     },
     "metadata": {},
     "output_type": "display_data"
    }
   ],
   "source": [
    "plot_vtk2('u14.vtk', 'u14.png')"
   ]
  },
  {
   "cell_type": "code",
   "execution_count": 31,
   "metadata": {},
   "outputs": [
    {
     "name": "stdout",
     "output_type": "stream",
     "text": [
      "Notebook initialized with ipy backend.\n"
     ]
    },
    {
     "data": {
      "image/png": "[encoded data removed]"
     },
     "metadata": {},
     "output_type": "display_data"
    }
   ],
   "source": [
    "plot_vtk2('u21.vtk', 'u21.png')"
   ]
  },
  {
   "cell_type": "code",
   "execution_count": 32,
   "metadata": {},
   "outputs": [
    {
     "name": "stdout",
     "output_type": "stream",
     "text": [
      "Notebook initialized with ipy backend.\n"
     ]
    },
    {
     "data": {
      "image/png": "[encoded data removed]"
     },
     "metadata": {},
     "output_type": "display_data"
    }
   ],
   "source": [
    "plot_vtk2('u22.vtk', 'u22.png')"
   ]
  },
  {
   "cell_type": "code",
   "execution_count": 33,
   "metadata": {},
   "outputs": [
    {
     "name": "stdout",
     "output_type": "stream",
     "text": [
      "Notebook initialized with ipy backend.\n"
     ]
    },
    {
     "data": {
      "image/png": "[encoded data removed]"
     },
     "metadata": {},
     "output_type": "display_data"
    }
   ],
   "source": [
    "plot_vtk2('u23.vtk', 'u23.png')"
   ]
  },
  {
   "cell_type": "code",
   "execution_count": 34,
   "metadata": {},
   "outputs": [
    {
     "name": "stdout",
     "output_type": "stream",
     "text": [
      "Notebook initialized with ipy backend.\n"
     ]
    },
    {
     "data": {
      "image/png": "[encoded data removed]"
     },
     "metadata": {},
     "output_type": "display_data"
    }
   ],
   "source": [
    "plot_vtk2('u24.vtk', 'u24.png')"
   ]
  },
  {
   "cell_type": "code",
   "execution_count": 35,
   "metadata": {},
   "outputs": [
    {
     "name": "stdout",
     "output_type": "stream",
     "text": [
      "Notebook initialized with ipy backend.\n"
     ]
    },
    {
     "data": {
      "image/png": "[encoded data removed]"
     },
     "metadata": {},
     "output_type": "display_data"
    }
   ],
   "source": [
    "plot_vtk2('u31.vtk', 'u31.png')"
   ]
  },
  {
   "cell_type": "code",
   "execution_count": 36,
   "metadata": {},
   "outputs": [
    {
     "name": "stdout",
     "output_type": "stream",
     "text": [
      "Notebook initialized with ipy backend.\n"
     ]
    },
    {
     "data": {
      "image/png": "[encoded data removed]"
     },
     "metadata": {},
     "output_type": "display_data"
    }
   ],
   "source": [
    "plot_vtk2('u32.vtk', 'u32.png')"
   ]
  },
  {
   "cell_type": "code",
   "execution_count": 37,
   "metadata": {},
   "outputs": [
    {
     "name": "stdout",
     "output_type": "stream",
     "text": [
      "Notebook initialized with ipy backend.\n"
     ]
    },
    {
     "data": {
      "image/png": "[encoded data removed]"
     },
     "metadata": {},
     "output_type": "display_data"
    }
   ],
   "source": [
    "plot_vtk2('u33.vtk', 'u33.png')"
   ]
  },
  {
   "cell_type": "code",
   "execution_count": 38,
   "metadata": {},
   "outputs": [
    {
     "name": "stdout",
     "output_type": "stream",
     "text": [
      "Notebook initialized with ipy backend.\n"
     ]
    },
    {
     "data": {
      "image/png": "[encoded data removed]"
     },
     "metadata": {},
     "output_type": "display_data"
    }
   ],
   "source": [
    "plot_vtk2('u34.vtk', 'u34.png')"
   ]
  },
  {
   "cell_type": "code",
   "execution_count": 39,
   "metadata": {},
   "outputs": [
    {
     "name": "stdout",
     "output_type": "stream",
     "text": [
      "Notebook initialized with ipy backend.\n"
     ]
    },
    {
     "data": {
      "image/png": "[encoded data removed]"
     },
     "metadata": {},
     "output_type": "display_data"
    }
   ],
   "source": [
    "plot_vtk2('u41.vtk', 'u41.png')"
   ]
  },
  {
   "cell_type": "code",
   "execution_count": 40,
   "metadata": {},
   "outputs": [
    {
     "name": "stdout",
     "output_type": "stream",
     "text": [
      "Notebook initialized with ipy backend.\n"
     ]
    },
    {
     "data": {
      "image/png": "[encoded data removed]"
     },
     "metadata": {},
     "output_type": "display_data"
    }
   ],
   "source": [
    "plot_vtk2('u42.vtk', 'u42.png')"
   ]
  },
  {
   "cell_type": "code",
   "execution_count": 41,
   "metadata": {},
   "outputs": [
    {
     "name": "stdout",
     "output_type": "stream",
     "text": [
      "Notebook initialized with ipy backend.\n"
     ]
    },
    {
     "data": {
      "image/png": "[encoded data removed]"
     },
     "metadata": {},
     "output_type": "display_data"
    }
   ],
   "source": [
    "plot_vtk2('u43.vtk', 'u43.png')"
   ]
  },
  {
   "cell_type": "code",
   "execution_count": 42,
   "metadata": {},
   "outputs": [
    {
     "name": "stdout",
     "output_type": "stream",
     "text": [
      "Notebook initialized with ipy backend.\n"
     ]
    },
    {
     "data": {
      "image/png": "[encoded data removed]"
     },
     "metadata": {},
     "output_type": "display_data"
    }
   ],
   "source": [
    "plot_vtk2('u44.vtk', 'u44.png')"
   ]
  },
  {
   "cell_type": "code",
   "execution_count": null,
   "metadata": {},
   "outputs": [],
   "source": []
  }
 ],
 "metadata": {
  "kernelspec": {
   "display_name": "Python 3",
   "language": "python",
   "name": "python3"
  },
  "language_info": {
   "codemirror_mode": {
    "name": "ipython",
    "version": 3
   },
   "file_extension": ".py",
   "mimetype": "text/x-python",
   "name": "python",
   "nbconvert_exporter": "python",
   "pygments_lexer": "ipython3",
   "version": "3.7.1"
  }
 },
 "nbformat": 4,
 "nbformat_minor": 2
}
