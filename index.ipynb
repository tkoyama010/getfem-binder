{
 "cells": [
  {
   "cell_type": "markdown",
   "metadata": {},
   "source": [
    "# 単純支持の片持ち梁での検討\n",
    "\n",
    "GetFEM++を使用して単純支持の片持ち梁に荷重を与え、理論解との比較をします。"
   ]
  },
  {
   "cell_type": "code",
   "execution_count": 1,
   "metadata": {},
   "outputs": [],
   "source": [
    "import os\n",
    "import sys\n",
    "sys.path.append('../getfem/interface/src/python/')\n",
    "import getfem as gf\n",
    "import numpy as np"
   ]
  },
  {
   "cell_type": "markdown",
   "metadata": {},
   "source": [
    "検討するケースは次の通りです。GetFEM++において下に示す有限要素法と積分をそれぞれFEM_PRODUCTとIM_PRDOCTを使用して2次元化して使用します。2次要素についてはガウスの積分点が3として解析を行います。IM_GAUSS1D(K)はK/2+1点のガウス積分を表します。\n",
    "\n",
    "| ケース名 | 要素定式化       | 分割    | 有限要素法                     | 積分            |\n",
    "| -------- | ---------------- | ------- | ------------------------------ | --------------- |\n",
    "| case11   | 2次要素          | 1×4    | FEM_PK(1, 2)                   | IM_GAUSS1D(4)   |\n",
    "| case12   | 2次要素          | 2×4    | FEM_PK(1, 2)                   | IM_GAUSS1D(4)   |\n",
    "| case13   | 2次要素          | 4×4    | FEM_PK(1, 2)                   | IM_GAUSS1D(4)   |\n",
    "| case14   | 2次要素          | 8×16   | FEM_PK(1, 2)                   | IM_GAUSS1D(4)   |\n",
    "| case21   | 1次完全積分要素  | 1×4    | FEM_PK(1, 1)                   | IM_GAUSS1D(2)   |\n",
    "| case22   | 1次完全積分要素  | 2×4    | FEM_PK(1, 1)                   | IM_GAUSS1D(2)   |\n",
    "| case23   | 1次完全積分要素  | 4×4    | FEM_PK(1, 1)                   | IM_GAUSS1D(2)   |\n",
    "| case24   | 1次完全積分要素  | 8×16   | FEM_PK(1, 1)                   | IM_GAUSS1D(2)   |\n",
    "| case31   | 1次低減積分要素  | 1×4    | FEM_PK(1, 1)                   | IM_GAUSS1D(0)   |\n",
    "| case32   | 1次低減積分要素  | 2×4    | FEM_PK(1, 1)                   | IM_GAUSS1D(0)   |\n",
    "| case33   | 1次低減積分要素  | 4×4    | FEM_PK(1, 1)                   | IM_GAUSS1D(0)   |\n",
    "| case34   | 1次低減積分要素  | 8×16   | FEM_PK(1, 1)                   | IM_GAUSS1D(0)   |\n",
    "| case41   | 1次非適合要素    | 1×4    | FEM_PK_WITH_CUBIC_BUBBLE(1, 1) | IM_GAUSS1D(4)   |\n",
    "| case42   | 1次非適合要素    | 2×4    | FEM_PK_WITH_CUBIC_BUBBLE(1, 1) | IM_GAUSS1D(4)   |\n",
    "| case43   | 1次非適合要素    | 4×4    | FEM_PK_WITH_CUBIC_BUBBLE(1, 1) | IM_GAUSS1D(4)   |\n",
    "| case44   | 1次非適合要素    | 8×16   | FEM_PK_WITH_CUBIC_BUBBLE(1, 1) | IM_GAUSS1D(4)   |\n",
    "\n",
    "それでは、これらの有限要素法と積分法をそれぞれ設定します。メッシュを最初に設定します。モデル全体のサイズはX方向にL = 8、Y方向にh = 1とします。一般的に細長比（スレンダー比）が1:10であれば梁とみなせると言われています。(http://femingway.com/?p=1310)"
   ]
  },
  {
   "cell_type": "code",
   "execution_count": 2,
   "metadata": {},
   "outputs": [],
   "source": [
    "L = 8.0\n",
    "h = 1.0\n",
    "\n",
    "x01 = np.arange(1+1)*1/1\n",
    "x04 = np.arange(4+1)*L/4\n",
    "x16 = np.arange(16+1)*L/16\n",
    "\n",
    "y01 = np.arange(1+1)*h/1\n",
    "y02 = np.arange(2+1)*h/2\n",
    "y04 = np.arange(4+1)*h/4\n",
    "y08 = np.arange(8+1)*h/8\n",
    "\n",
    "m11 = gf.Mesh('cartesian', x04, y01)\n",
    "m12 = gf.Mesh('cartesian', x04, y02)\n",
    "m13 = gf.Mesh('cartesian', x04, y04)\n",
    "m14 = gf.Mesh('cartesian', x16, y08)\n",
    "m21 = gf.Mesh('cartesian', x04, y01)\n",
    "m22 = gf.Mesh('cartesian', x04, y02)\n",
    "m23 = gf.Mesh('cartesian', x04, y04)\n",
    "m24 = gf.Mesh('cartesian', x16, y08)\n",
    "m31 = gf.Mesh('cartesian', x04, y01)\n",
    "m32 = gf.Mesh('cartesian', x04, y02)\n",
    "m33 = gf.Mesh('cartesian', x04, y04)\n",
    "m34 = gf.Mesh('cartesian', x16, y08)\n",
    "m41 = gf.Mesh('cartesian', x04, y01)\n",
    "m42 = gf.Mesh('cartesian', x04, y02)\n",
    "m43 = gf.Mesh('cartesian', x04, y04)\n",
    "m44 = gf.Mesh('cartesian', x16, y08)\n",
    "\n",
    "ms = [m11, m12, m13, m14, m21, m22, m23, m24, m31, m32, m33, m34, m41, m42, m43, m44]\n",
    "\n",
    "m11.export_to_vtk('m11.vtk')\n",
    "m12.export_to_vtk('m12.vtk')\n",
    "m13.export_to_vtk('m13.vtk')\n",
    "m14.export_to_vtk('m14.vtk')"
   ]
  },
  {
   "cell_type": "code",
   "execution_count": 3,
   "metadata": {},
   "outputs": [],
   "source": [
    "def plot_vtk(filename, picturename):\n",
    "    from mayavi import mlab\n",
    "    mlab.init_notebook()\n",
    "    vtk_file_reader = mlab.pipeline.open(filename)\n",
    "    extract_edges = mlab.pipeline.extract_edges(vtk_file_reader)\n",
    "    surface = mlab.pipeline.surface(extract_edges)\n",
    "    axes = mlab.axes(surface)\n",
    "    \n",
    "    mlab.show()\n",
    "    mlab.savefig(picturename)\n",
    "    mlab.clf()\n",
    "    from IPython.display import Image, display_png\n",
    "    display_png(Image(picturename))"
   ]
  },
  {
   "cell_type": "markdown",
   "metadata": {},
   "source": [
    "1×4のメッシュを表示します。"
   ]
  },
  {
   "cell_type": "code",
   "execution_count": 4,
   "metadata": {},
   "outputs": [
    {
     "name": "stdout",
     "output_type": "stream",
     "text": [
      "Notebook initialized with ipy backend.\n"
     ]
    },
    {
     "data": {
      "image/png": "[encoded data removed]"
     },
     "metadata": {},
     "output_type": "display_data"
    }
   ],
   "source": [
    "plot_vtk(filename = 'm11.vtk', picturename = 'm0101.png')"
   ]
  },
  {
   "cell_type": "markdown",
   "metadata": {},
   "source": [
    "2×4のメッシュを表示します。"
   ]
  },
  {
   "cell_type": "code",
   "execution_count": 5,
   "metadata": {},
   "outputs": [
    {
     "name": "stdout",
     "output_type": "stream",
     "text": [
      "Notebook initialized with ipy backend.\n"
     ]
    },
    {
     "data": {
      "image/png": "[encoded data removed]"
     },
     "metadata": {},
     "output_type": "display_data"
    }
   ],
   "source": [
    "plot_vtk(filename = 'm12.vtk', picturename = 'm0104.png')"
   ]
  },
  {
   "cell_type": "markdown",
   "metadata": {},
   "source": [
    "4×4のメッシュを表示します。"
   ]
  },
  {
   "cell_type": "code",
   "execution_count": 6,
   "metadata": {},
   "outputs": [
    {
     "name": "stdout",
     "output_type": "stream",
     "text": [
      "Notebook initialized with ipy backend.\n"
     ]
    },
    {
     "data": {
      "image/png": "[encoded data removed]"
     },
     "metadata": {},
     "output_type": "display_data"
    }
   ],
   "source": [
    "plot_vtk(filename = 'm13.vtk', picturename = 'm0204.png')"
   ]
  },
  {
   "cell_type": "markdown",
   "metadata": {},
   "source": [
    "8×16のメッシュを表示します。"
   ]
  },
  {
   "cell_type": "code",
   "execution_count": 7,
   "metadata": {},
   "outputs": [
    {
     "name": "stdout",
     "output_type": "stream",
     "text": [
      "Notebook initialized with ipy backend.\n"
     ]
    },
    {
     "data": {
      "image/png": "[encoded data removed]"
     },
     "metadata": {},
     "output_type": "display_data"
    }
   ],
   "source": [
    "plot_vtk(filename = 'm14.vtk', picturename = 'm0816.png')"
   ]
  },
  {
   "cell_type": "markdown",
   "metadata": {},
   "source": [
    "各メッシュの左側面にDirichlet条件を設定するための境界領域を設定します。各メッシュの右側面にNeumann条件を設定するための境界領域を設定します。"
   ]
  },
  {
   "cell_type": "code",
   "execution_count": 8,
   "metadata": {},
   "outputs": [],
   "source": [
    "right = 1\n",
    "left = 2\n",
    "\n",
    "for m in ms:\n",
    "\n",
    "    flst = m.outer_faces()\n",
    "    fnor = m.normal_of_faces(flst)\n",
    "\n",
    "    tright = abs(fnor[0, :] - 1) < 1e-14\n",
    "    tleft = abs(fnor[0, :] + 1) < 1e-14\n",
    "\n",
    "    fright = np.compress(tright, flst, axis=1)\n",
    "    fleft = np.compress(tleft, flst, axis=1)\n",
    "\n",
    "    m.set_region(right, fright)\n",
    "    m.set_region(left, fleft)"
   ]
  },
  {
   "cell_type": "markdown",
   "metadata": {},
   "source": [
    "MeshFEMオブジェクトを作成し各メッシュと有限要素法を関連付けます。"
   ]
  },
  {
   "cell_type": "code",
   "execution_count": 9,
   "metadata": {},
   "outputs": [],
   "source": [
    "mfu11 = gf.MeshFem(m11, 2)\n",
    "mfu12 = gf.MeshFem(m12, 2)\n",
    "mfu13 = gf.MeshFem(m13, 2)\n",
    "mfu14 = gf.MeshFem(m14, 2)\n",
    "mfu21 = gf.MeshFem(m21, 2)\n",
    "mfu22 = gf.MeshFem(m22, 2)\n",
    "mfu23 = gf.MeshFem(m23, 2)\n",
    "mfu24 = gf.MeshFem(m24, 2)\n",
    "mfu31 = gf.MeshFem(m31, 2)\n",
    "mfu32 = gf.MeshFem(m32, 2)\n",
    "mfu33 = gf.MeshFem(m33, 2)\n",
    "mfu34 = gf.MeshFem(m34, 2)\n",
    "mfu41 = gf.MeshFem(m41, 2)\n",
    "mfu42 = gf.MeshFem(m42, 2)\n",
    "mfu43 = gf.MeshFem(m43, 2)\n",
    "mfu44 = gf.MeshFem(m44, 2)\n",
    "\n",
    "mfus = [mfu11, mfu12, mfu13, mfu14, mfu21, mfu22, mfu23, mfu24, mfu31, mfu32, mfu33, mfu34]\n",
    "\n",
    "fem11 = gf.Fem('FEM_PRODUCT(FEM_PK(1, 2), FEM_PK(1, 2))') # 2次要素\n",
    "fem12 = gf.Fem('FEM_PRODUCT(FEM_PK(1, 2), FEM_PK(1, 2))') # 2次要素\n",
    "fem13 = gf.Fem('FEM_PRODUCT(FEM_PK(1, 2), FEM_PK(1, 2))') # 2次要素\n",
    "fem14 = gf.Fem('FEM_PRODUCT(FEM_PK(1, 2), FEM_PK(1, 2))') # 2次要素\n",
    "fem21 = gf.Fem('FEM_PRODUCT(FEM_PK(1, 1), FEM_PK(1, 1))') # 1次要素\n",
    "fem22 = gf.Fem('FEM_PRODUCT(FEM_PK(1, 1), FEM_PK(1, 1))') # 1次要素\n",
    "fem23 = gf.Fem('FEM_PRODUCT(FEM_PK(1, 1), FEM_PK(1, 1))') # 1次要素\n",
    "fem24 = gf.Fem('FEM_PRODUCT(FEM_PK(1, 1), FEM_PK(1, 1))') # 1次要素\n",
    "fem31 = gf.Fem('FEM_PRODUCT(FEM_PK(1, 1), FEM_PK(1, 1))') # 1次要素\n",
    "fem32 = gf.Fem('FEM_PRODUCT(FEM_PK(1, 1), FEM_PK(1, 1))') # 1次要素\n",
    "fem33 = gf.Fem('FEM_PRODUCT(FEM_PK(1, 1), FEM_PK(1, 1))') # 1次要素\n",
    "fem34 = gf.Fem('FEM_PRODUCT(FEM_PK(1, 1), FEM_PK(1, 1))') # 1次要素\n",
    "fem41 = gf.Fem('FEM_PRODUCT(FEM_PK_WITH_CUBIC_BUBBLE(1, 1), FEM_PK_WITH_CUBIC_BUBBLE(1, 1))') # 非適合要素\n",
    "fem42 = gf.Fem('FEM_PRODUCT(FEM_PK_WITH_CUBIC_BUBBLE(1, 1), FEM_PK_WITH_CUBIC_BUBBLE(1, 1))') # 非適合要素\n",
    "fem43 = gf.Fem('FEM_PRODUCT(FEM_PK_WITH_CUBIC_BUBBLE(1, 1), FEM_PK_WITH_CUBIC_BUBBLE(1, 1))') # 非適合要素\n",
    "fem44 = gf.Fem('FEM_PRODUCT(FEM_PK_WITH_CUBIC_BUBBLE(1, 1), FEM_PK_WITH_CUBIC_BUBBLE(1, 1))') # 非適合要素\n",
    "\n",
    "mfu11.set_fem(fem11)\n",
    "mfu12.set_fem(fem12)\n",
    "mfu13.set_fem(fem13)\n",
    "mfu14.set_fem(fem14)\n",
    "mfu21.set_fem(fem21)\n",
    "mfu22.set_fem(fem22)\n",
    "mfu23.set_fem(fem23)\n",
    "mfu24.set_fem(fem24)\n",
    "mfu31.set_fem(fem31)\n",
    "mfu32.set_fem(fem32)\n",
    "mfu33.set_fem(fem33)\n",
    "mfu34.set_fem(fem34)\n",
    "mfu41.set_fem(fem41)\n",
    "mfu42.set_fem(fem42)\n",
    "mfu43.set_fem(fem43)\n",
    "mfu44.set_fem(fem44)\n",
    "\n",
    "#fems = [fem11, fem12, fem13, fem14, fem21, fem22, fem23, fem24, fem31, fem32, fem33, fem34, fem41, fem42, fem43, fem44]\n",
    "#\n",
    "#for mfu, fem in zip(mfus, fems):\n",
    "#    mfu.set_fem(fem)"
   ]
  },
  {
   "cell_type": "markdown",
   "metadata": {},
   "source": [
    "積分法を定義します。"
   ]
  },
  {
   "cell_type": "code",
   "execution_count": 10,
   "metadata": {},
   "outputs": [],
   "source": [
    "inm11 = gf.Integ('IM_PRODUCT(IM_GAUSS1D(4), IM_GAUSS1D(4))') # 2次完全積分\n",
    "inm12 = gf.Integ('IM_PRODUCT(IM_GAUSS1D(4), IM_GAUSS1D(4))') # 2次完全積分\n",
    "inm13 = gf.Integ('IM_PRODUCT(IM_GAUSS1D(4), IM_GAUSS1D(4))') # 2次完全積分\n",
    "inm14 = gf.Integ('IM_PRODUCT(IM_GAUSS1D(4), IM_GAUSS1D(4))') # 2次完全積分\n",
    "inm21 = gf.Integ('IM_PRODUCT(IM_GAUSS1D(2), IM_GAUSS1D(2))') # 1次完全積分\n",
    "inm22 = gf.Integ('IM_PRODUCT(IM_GAUSS1D(2), IM_GAUSS1D(2))') # 1次完全積分\n",
    "inm23 = gf.Integ('IM_PRODUCT(IM_GAUSS1D(2), IM_GAUSS1D(2))') # 1次完全積分\n",
    "inm24 = gf.Integ('IM_PRODUCT(IM_GAUSS1D(2), IM_GAUSS1D(2))') # 1次完全積分\n",
    "inm31 = gf.Integ('IM_PRODUCT(IM_GAUSS1D(0), IM_GAUSS1D(0))') # 1次低減積分\n",
    "inm32 = gf.Integ('IM_PRODUCT(IM_GAUSS1D(0), IM_GAUSS1D(0))') # 1次低減積分\n",
    "inm33 = gf.Integ('IM_PRODUCT(IM_GAUSS1D(0), IM_GAUSS1D(0))') # 1次低減積分\n",
    "inm34 = gf.Integ('IM_PRODUCT(IM_GAUSS1D(0), IM_GAUSS1D(0))') # 1次低減積分\n",
    "inm41 = gf.Integ('IM_PRODUCT(IM_GAUSS1D(4), IM_GAUSS1D(4))') # 非適合要素完全積分\n",
    "inm42 = gf.Integ('IM_PRODUCT(IM_GAUSS1D(4), IM_GAUSS1D(4))') # 非適合要素完全積分\n",
    "inm43 = gf.Integ('IM_PRODUCT(IM_GAUSS1D(4), IM_GAUSS1D(4))') # 非適合要素完全積分\n",
    "inm44 = gf.Integ('IM_PRODUCT(IM_GAUSS1D(4), IM_GAUSS1D(4))') # 非適合要素完全積分"
   ]
  },
  {
   "cell_type": "code",
   "execution_count": 11,
   "metadata": {},
   "outputs": [],
   "source": [
    "mim11 = gf.MeshIm(m11, inm11)\n",
    "mim12 = gf.MeshIm(m12, inm12)\n",
    "mim13 = gf.MeshIm(m13, inm13)\n",
    "mim14 = gf.MeshIm(m14, inm14)\n",
    "mim21 = gf.MeshIm(m21, inm21)\n",
    "mim22 = gf.MeshIm(m22, inm22)\n",
    "mim23 = gf.MeshIm(m23, inm23)\n",
    "mim24 = gf.MeshIm(m24, inm24)\n",
    "mim31 = gf.MeshIm(m31, inm31)\n",
    "mim32 = gf.MeshIm(m32, inm32)\n",
    "mim33 = gf.MeshIm(m33, inm33)\n",
    "mim34 = gf.MeshIm(m34, inm34)\n",
    "mim41 = gf.MeshIm(m41, inm41)\n",
    "mim42 = gf.MeshIm(m42, inm42)\n",
    "mim43 = gf.MeshIm(m43, inm43)\n",
    "mim44 = gf.MeshIm(m44, inm44)\n",
    "\n",
    "mims = [mim11, mim12, mim13, mim14, mim21, mim22, mim23, mim24, mim31, mim32, mim33, mim34, mim41, mim42, mim43, mim44]"
   ]
  },
  {
   "cell_type": "markdown",
   "metadata": {},
   "source": [
    "モデルを定義し、各ケースの変数を追加します。"
   ]
  },
  {
   "cell_type": "code",
   "execution_count": 12,
   "metadata": {},
   "outputs": [],
   "source": [
    "md11 = gf.Model('real')\n",
    "md12 = gf.Model('real')\n",
    "md13 = gf.Model('real')\n",
    "md14 = gf.Model('real')\n",
    "md21 = gf.Model('real')\n",
    "md22 = gf.Model('real')\n",
    "md23 = gf.Model('real')\n",
    "md24 = gf.Model('real')\n",
    "md31 = gf.Model('real')\n",
    "md32 = gf.Model('real')\n",
    "md33 = gf.Model('real')\n",
    "md34 = gf.Model('real')\n",
    "md41 = gf.Model('real')\n",
    "md42 = gf.Model('real')\n",
    "md43 = gf.Model('real')\n",
    "md44 = gf.Model('real')\n",
    "\n",
    "md11.add_fem_variable('u', mfu11)\n",
    "md12.add_fem_variable('u', mfu12)\n",
    "md13.add_fem_variable('u', mfu13)\n",
    "md14.add_fem_variable('u', mfu14)\n",
    "md21.add_fem_variable('u', mfu21)\n",
    "md22.add_fem_variable('u', mfu22)\n",
    "md23.add_fem_variable('u', mfu23)\n",
    "md24.add_fem_variable('u', mfu24)\n",
    "md31.add_fem_variable('u', mfu31)\n",
    "md32.add_fem_variable('u', mfu32)\n",
    "md33.add_fem_variable('u', mfu33)\n",
    "md34.add_fem_variable('u', mfu34)\n",
    "md41.add_fem_variable('u', mfu41)\n",
    "md42.add_fem_variable('u', mfu42)\n",
    "md43.add_fem_variable('u', mfu43)\n",
    "md44.add_fem_variable('u', mfu44)\n",
    "mds = [md11, md12, md13, md14, md21, md22, md23, md24, md31, md32, md33, md34, md41, md42, md43, md44]\n",
    "#\n",
    "#for md, mfu in zip(mds, mfus):\n",
    "#    md.add_fem_variable('u', mfu)"
   ]
  },
  {
   "cell_type": "markdown",
   "metadata": {},
   "source": [
    "各変位に対し剛性行列を追加します。ヤング率を$E = 1.0 \\times 10^3$ポアソン比を$\\nu = 0.3$とします。"
   ]
  },
  {
   "cell_type": "code",
   "execution_count": 13,
   "metadata": {},
   "outputs": [],
   "source": [
    "E = 1e3\n",
    "Nu = 0.3\n",
    "\n",
    "md11.add_initialized_data('E', E)\n",
    "md12.add_initialized_data('E', E)\n",
    "md13.add_initialized_data('E', E)\n",
    "md14.add_initialized_data('E', E)\n",
    "md21.add_initialized_data('E', E)\n",
    "md22.add_initialized_data('E', E)\n",
    "md23.add_initialized_data('E', E)\n",
    "md24.add_initialized_data('E', E)\n",
    "md31.add_initialized_data('E', E)\n",
    "md32.add_initialized_data('E', E)\n",
    "md33.add_initialized_data('E', E)\n",
    "md34.add_initialized_data('E', E)\n",
    "md41.add_initialized_data('E', E)\n",
    "md42.add_initialized_data('E', E)\n",
    "md43.add_initialized_data('E', E)\n",
    "md44.add_initialized_data('E', E)\n",
    "md11.add_initialized_data('Nu', Nu)\n",
    "md12.add_initialized_data('Nu', Nu)\n",
    "md13.add_initialized_data('Nu', Nu)\n",
    "md14.add_initialized_data('Nu', Nu)\n",
    "md21.add_initialized_data('Nu', Nu)\n",
    "md22.add_initialized_data('Nu', Nu)\n",
    "md23.add_initialized_data('Nu', Nu)\n",
    "md24.add_initialized_data('Nu', Nu)\n",
    "md31.add_initialized_data('Nu', Nu)\n",
    "md32.add_initialized_data('Nu', Nu)\n",
    "md33.add_initialized_data('Nu', Nu)\n",
    "md34.add_initialized_data('Nu', Nu)\n",
    "md41.add_initialized_data('Nu', Nu)\n",
    "md42.add_initialized_data('Nu', Nu)\n",
    "md43.add_initialized_data('Nu', Nu)\n",
    "md44.add_initialized_data('Nu', Nu)\n",
    "#E = 1e3\n",
    "#Nu = 0.3\n",
    "#\n",
    "#for md, mim in zip(mds, mims):\n",
    "#    md.add_initialized_data('E', E)\n",
    "#    md.add_initialized_data('Nu', Nu)"
   ]
  },
  {
   "cell_type": "markdown",
   "metadata": {},
   "source": [
    "平面応力要素を定義します。"
   ]
  },
  {
   "cell_type": "code",
   "execution_count": 14,
   "metadata": {},
   "outputs": [
    {
     "data": {
      "text/plain": [
       "0"
      ]
     },
     "execution_count": 14,
     "metadata": {},
     "output_type": "execute_result"
    }
   ],
   "source": [
    "md11.add_isotropic_linearized_elasticity_brick_pstress(mim11, 'u', 'E', 'Nu')\n",
    "md12.add_isotropic_linearized_elasticity_brick_pstress(mim12, 'u', 'E', 'Nu')\n",
    "md13.add_isotropic_linearized_elasticity_brick_pstress(mim13, 'u', 'E', 'Nu')\n",
    "md14.add_isotropic_linearized_elasticity_brick_pstress(mim14, 'u', 'E', 'Nu')\n",
    "md21.add_isotropic_linearized_elasticity_brick_pstress(mim21, 'u', 'E', 'Nu')\n",
    "md22.add_isotropic_linearized_elasticity_brick_pstress(mim22, 'u', 'E', 'Nu')\n",
    "md23.add_isotropic_linearized_elasticity_brick_pstress(mim23, 'u', 'E', 'Nu')\n",
    "md24.add_isotropic_linearized_elasticity_brick_pstress(mim24, 'u', 'E', 'Nu')\n",
    "md31.add_isotropic_linearized_elasticity_brick_pstress(mim31, 'u', 'E', 'Nu')\n",
    "md32.add_isotropic_linearized_elasticity_brick_pstress(mim32, 'u', 'E', 'Nu')\n",
    "md33.add_isotropic_linearized_elasticity_brick_pstress(mim33, 'u', 'E', 'Nu')\n",
    "md34.add_isotropic_linearized_elasticity_brick_pstress(mim34, 'u', 'E', 'Nu')\n",
    "md41.add_isotropic_linearized_elasticity_brick_pstress(mim41, 'u', 'E', 'Nu')\n",
    "md42.add_isotropic_linearized_elasticity_brick_pstress(mim42, 'u', 'E', 'Nu')\n",
    "md43.add_isotropic_linearized_elasticity_brick_pstress(mim43, 'u', 'E', 'Nu')\n",
    "md44.add_isotropic_linearized_elasticity_brick_pstress(mim44, 'u', 'E', 'Nu')\n",
    "#for md, mim in zip(mds, mims):\n",
    "#    md.add_isotropic_linearized_elasticity_brick_pstress(mim, 'u', 'E', 'Nu')"
   ]
  },
  {
   "cell_type": "markdown",
   "metadata": {},
   "source": [
    "各変数について、左側面にDirichlet境界条件を設定します。"
   ]
  },
  {
   "cell_type": "code",
   "execution_count": 15,
   "metadata": {},
   "outputs": [
    {
     "data": {
      "text/plain": [
       "1"
      ]
     },
     "execution_count": 15,
     "metadata": {},
     "output_type": "execute_result"
    }
   ],
   "source": [
    "md11.add_Dirichlet_condition_with_simplification('u', left)\n",
    "md12.add_Dirichlet_condition_with_simplification('u', left)\n",
    "md13.add_Dirichlet_condition_with_simplification('u', left)\n",
    "md14.add_Dirichlet_condition_with_simplification('u', left)\n",
    "md21.add_Dirichlet_condition_with_simplification('u', left)\n",
    "md22.add_Dirichlet_condition_with_simplification('u', left)\n",
    "md23.add_Dirichlet_condition_with_simplification('u', left)\n",
    "md24.add_Dirichlet_condition_with_simplification('u', left)\n",
    "md31.add_Dirichlet_condition_with_simplification('u', left)\n",
    "md32.add_Dirichlet_condition_with_simplification('u', left)\n",
    "md33.add_Dirichlet_condition_with_simplification('u', left)\n",
    "md34.add_Dirichlet_condition_with_simplification('u', left)\n",
    "md41.add_Dirichlet_condition_with_multipliers(mim41, 'u', mfu41, left)\n",
    "md42.add_Dirichlet_condition_with_multipliers(mim42, 'u', mfu42, left)\n",
    "md43.add_Dirichlet_condition_with_multipliers(mim43, 'u', mfu43, left)\n",
    "md44.add_Dirichlet_condition_with_multipliers(mim44, 'u', mfu44, left)\n",
    "#for md, mim, mfu in zip(mds, mims, mfus):\n",
    "#    md.add_Dirichlet_condition_with_multipliers(mim, 'u', mfu, left)"
   ]
  },
  {
   "cell_type": "markdown",
   "metadata": {},
   "source": [
    "各変数について、右側面にNeumann境界条件を設定します。"
   ]
  },
  {
   "cell_type": "code",
   "execution_count": 16,
   "metadata": {},
   "outputs": [],
   "source": [
    "F = 1.0\n",
    "md11.add_fem_data('F', mfu11)\n",
    "Fs = np.zeros(mfu11.nbdof())\n",
    "Fs[1::2] = F\n",
    "md11.set_variable('F', Fs)\n",
    "md12.add_fem_data('F', mfu12)\n",
    "Fs = np.zeros(mfu12.nbdof())\n",
    "Fs[1::2] = F\n",
    "md12.set_variable('F', Fs)\n",
    "md13.add_fem_data('F', mfu13)\n",
    "Fs = np.zeros(mfu13.nbdof())\n",
    "Fs[1::2] = F\n",
    "md13.set_variable('F', Fs)\n",
    "md14.add_fem_data('F', mfu14)\n",
    "Fs = np.zeros(mfu14.nbdof())\n",
    "Fs[1::2] = F\n",
    "md14.set_variable('F', Fs)\n",
    "md21.add_fem_data('F', mfu21)\n",
    "Fs = np.zeros(mfu21.nbdof())\n",
    "Fs[1::2] = F\n",
    "md21.set_variable('F', Fs)\n",
    "md22.add_fem_data('F', mfu22)\n",
    "Fs = np.zeros(mfu22.nbdof())\n",
    "Fs[1::2] = F\n",
    "md22.set_variable('F', Fs)\n",
    "md23.add_fem_data('F', mfu23)\n",
    "Fs = np.zeros(mfu23.nbdof())\n",
    "Fs[1::2] = F\n",
    "md23.set_variable('F', Fs)\n",
    "md24.add_fem_data('F', mfu24)\n",
    "Fs = np.zeros(mfu24.nbdof())\n",
    "Fs[1::2] = F\n",
    "md24.set_variable('F', Fs)\n",
    "md31.add_fem_data('F', mfu31)\n",
    "Fs = np.zeros(mfu31.nbdof())\n",
    "Fs[1::2] = F\n",
    "md31.set_variable('F', Fs)\n",
    "md32.add_fem_data('F', mfu32)\n",
    "Fs = np.zeros(mfu32.nbdof())\n",
    "Fs[1::2] = F\n",
    "md32.set_variable('F', Fs)\n",
    "md33.add_fem_data('F', mfu33)\n",
    "Fs = np.zeros(mfu33.nbdof())\n",
    "Fs[1::2] = F\n",
    "md33.set_variable('F', Fs)\n",
    "md34.add_fem_data('F', mfu34)\n",
    "Fs = np.zeros(mfu34.nbdof())\n",
    "Fs[1::2] = F\n",
    "md34.set_variable('F', Fs)\n",
    "md41.add_fem_data('F', mfu41)\n",
    "Fs = np.zeros(mfu41.nbdof())\n",
    "Fs[1::2] = F\n",
    "md41.set_variable('F', Fs)\n",
    "md42.add_fem_data('F', mfu42)\n",
    "Fs = np.zeros(mfu42.nbdof())\n",
    "Fs[1::2] = F\n",
    "md42.set_variable('F', Fs)\n",
    "md43.add_fem_data('F', mfu43)\n",
    "Fs = np.zeros(mfu43.nbdof())\n",
    "Fs[1::2] = F\n",
    "md43.set_variable('F', Fs)\n",
    "md44.add_fem_data('F', mfu44)\n",
    "Fs = np.zeros(mfu44.nbdof())\n",
    "Fs[1::2] = F\n",
    "md44.set_variable('F', Fs)\n",
    "\n",
    "#for md, mfu in zip(mds, mfus):\n",
    "#    md.add_fem_data('F', mfu)\n",
    "#    Fs = np.zeros(mfu.nbdof())\n",
    "#    Fs[1::2] = 1.0\n",
    "#    md.set_variable('F', Fs)"
   ]
  },
  {
   "cell_type": "code",
   "execution_count": 17,
   "metadata": {},
   "outputs": [
    {
     "data": {
      "text/plain": [
       "2"
      ]
     },
     "execution_count": 17,
     "metadata": {},
     "output_type": "execute_result"
    }
   ],
   "source": [
    "md11.add_source_term_brick(mim11, 'u', 'F', right)\n",
    "md12.add_source_term_brick(mim12, 'u', 'F', right)\n",
    "md13.add_source_term_brick(mim13, 'u', 'F', right)\n",
    "md14.add_source_term_brick(mim14, 'u', 'F', right)\n",
    "md21.add_source_term_brick(mim21, 'u', 'F', right)\n",
    "md22.add_source_term_brick(mim22, 'u', 'F', right)\n",
    "md23.add_source_term_brick(mim23, 'u', 'F', right)\n",
    "md24.add_source_term_brick(mim24, 'u', 'F', right)\n",
    "md31.add_source_term_brick(mim31, 'u', 'F', right)\n",
    "md32.add_source_term_brick(mim32, 'u', 'F', right)\n",
    "md33.add_source_term_brick(mim33, 'u', 'F', right)\n",
    "md34.add_source_term_brick(mim34, 'u', 'F', right)\n",
    "md41.add_source_term_brick(mim41, 'u', 'F', right)\n",
    "md42.add_source_term_brick(mim42, 'u', 'F', right)\n",
    "md43.add_source_term_brick(mim43, 'u', 'F', right)\n",
    "md44.add_source_term_brick(mim44, 'u', 'F', right)\n",
    "\n",
    "#for md, mim in zip(mds, mims):\n",
    "#    md.add_source_term_brick(mim, 'u', 'F', right)"
   ]
  },
  {
   "cell_type": "markdown",
   "metadata": {},
   "source": [
    "各変数に対して構築したためモデルmdを解きます。"
   ]
  },
  {
   "cell_type": "code",
   "execution_count": 18,
   "metadata": {},
   "outputs": [],
   "source": [
    "#md11.solve()\n",
    "#md12.solve()\n",
    "#md13.solve()\n",
    "#md14.solve()\n",
    "#md21.solve()\n",
    "#md22.solve()\n",
    "#md23.solve()\n",
    "#md24.solve()\n",
    "#md31.solve()\n",
    "#md32.solve()\n",
    "#md33.solve()\n",
    "#md34.solve()\n",
    "#md41.solve()\n",
    "#md42.solve()\n",
    "#md43.solve()\n",
    "#md44.solve()\n",
    "\n",
    "for md in mds:\n",
    "    md.solve()"
   ]
  },
  {
   "cell_type": "code",
   "execution_count": 19,
   "metadata": {},
   "outputs": [],
   "source": [
    "u11 = md11.variable('u')\n",
    "u12 = md12.variable('u')\n",
    "u13 = md13.variable('u')\n",
    "u14 = md14.variable('u')\n",
    "u21 = md21.variable('u')\n",
    "u22 = md22.variable('u')\n",
    "u23 = md23.variable('u')\n",
    "u24 = md24.variable('u')\n",
    "u31 = md31.variable('u')\n",
    "u32 = md32.variable('u')\n",
    "u33 = md33.variable('u')\n",
    "u34 = md34.variable('u')\n",
    "u41 = md41.variable('u')\n",
    "u42 = md42.variable('u')\n",
    "u43 = md43.variable('u')\n",
    "u44 = md44.variable('u')"
   ]
  },
  {
   "cell_type": "code",
   "execution_count": 20,
   "metadata": {},
   "outputs": [],
   "source": [
    "mfu11.export_to_vtk('u11.vtk', 'ascii', mfu11, u11, 'u11')\n",
    "mfu12.export_to_vtk('u12.vtk', 'ascii', mfu12, u12, 'u12')\n",
    "mfu13.export_to_vtk('u13.vtk', 'ascii', mfu13, u13, 'u13')\n",
    "mfu14.export_to_vtk('u14.vtk', 'ascii', mfu14, u14, 'u14')\n",
    "mfu21.export_to_vtk('u21.vtk', 'ascii', mfu21, u21, 'u21')\n",
    "mfu22.export_to_vtk('u22.vtk', 'ascii', mfu22, u22, 'u22')\n",
    "mfu23.export_to_vtk('u23.vtk', 'ascii', mfu23, u23, 'u23')\n",
    "mfu24.export_to_vtk('u24.vtk', 'ascii', mfu24, u24, 'u24')\n",
    "mfu31.export_to_vtk('u31.vtk', 'ascii', mfu31, u31, 'u31')\n",
    "mfu32.export_to_vtk('u32.vtk', 'ascii', mfu32, u32, 'u32')\n",
    "mfu33.export_to_vtk('u33.vtk', 'ascii', mfu33, u33, 'u33')\n",
    "mfu34.export_to_vtk('u34.vtk', 'ascii', mfu34, u34, 'u34')\n",
    "mfu41.export_to_vtk('u41.vtk', 'ascii', mfu41, u41, 'u41')\n",
    "mfu42.export_to_vtk('u42.vtk', 'ascii', mfu42, u42, 'u42')\n",
    "mfu43.export_to_vtk('u43.vtk', 'ascii', mfu43, u43, 'u43')\n",
    "mfu44.export_to_vtk('u44.vtk', 'ascii', mfu44, u44, 'u44')"
   ]
  },
  {
   "cell_type": "code",
   "execution_count": 21,
   "metadata": {},
   "outputs": [],
   "source": [
    "def plot_vtk2(filename, picturename):\n",
    "    from mayavi import mlab\n",
    "    mlab.init_notebook()\n",
    "    vtk_file_reader = mlab.pipeline.open(filename)\n",
    "    extract_edges = mlab.pipeline.extract_edges(vtk_file_reader)\n",
    "    warp_vector = mlab.pipeline.warp_vector(extract_edges)\n",
    "    surface = mlab.pipeline.surface(warp_vector)\n",
    "    axes = mlab.axes(surface)\n",
    "\n",
    "    mlab.show()\n",
    "    mlab.savefig(picturename)\n",
    "    mlab.clf()\n",
    "    from IPython.display import Image, display_png\n",
    "    display_png(Image(picturename))"
   ]
  },
  {
   "cell_type": "markdown",
   "metadata": {},
   "source": [
    "各出力をプロットします。"
   ]
  },
  {
   "cell_type": "code",
   "execution_count": 22,
   "metadata": {},
   "outputs": [
    {
     "name": "stdout",
     "output_type": "stream",
     "text": [
      "Notebook initialized with ipy backend.\n"
     ]
    },
    {
     "data": {
      "image/png": "[encoded data removed]"
     },
     "metadata": {},
     "output_type": "display_data"
    }
   ],
   "source": [
    "plot_vtk2('u11.vtk', 'u11.png')"
   ]
  },
  {
   "cell_type": "code",
   "execution_count": 23,
   "metadata": {},
   "outputs": [
    {
     "name": "stdout",
     "output_type": "stream",
     "text": [
      "Notebook initialized with ipy backend.\n"
     ]
    },
    {
     "data": {
      "image/png": "[encoded data removed]"
     },
     "metadata": {},
     "output_type": "display_data"
    }
   ],
   "source": [
    "plot_vtk2('u12.vtk', 'u12.png')"
   ]
  },
  {
   "cell_type": "code",
   "execution_count": 24,
   "metadata": {},
   "outputs": [
    {
     "name": "stdout",
     "output_type": "stream",
     "text": [
      "Notebook initialized with ipy backend.\n"
     ]
    },
    {
     "data": {
      "image/png": "[encoded data removed]"
     },
     "metadata": {},
     "output_type": "display_data"
    }
   ],
   "source": [
    "plot_vtk2('u13.vtk', 'u13.png')"
   ]
  },
  {
   "cell_type": "code",
   "execution_count": 25,
   "metadata": {},
   "outputs": [
    {
     "name": "stdout",
     "output_type": "stream",
     "text": [
      "Notebook initialized with ipy backend.\n"
     ]
    },
    {
     "data": {
      "image/png": "[encoded data removed]"
     },
     "metadata": {},
     "output_type": "display_data"
    }
   ],
   "source": [
    "plot_vtk2('u14.vtk', 'u14.png')"
   ]
  },
  {
   "cell_type": "code",
   "execution_count": 26,
   "metadata": {},
   "outputs": [
    {
     "name": "stdout",
     "output_type": "stream",
     "text": [
      "Notebook initialized with ipy backend.\n"
     ]
    },
    {
     "data": {
      "image/png": "[encoded data removed]"
     },
     "metadata": {},
     "output_type": "display_data"
    }
   ],
   "source": [
    "plot_vtk2('u21.vtk', 'u21.png')"
   ]
  },
  {
   "cell_type": "code",
   "execution_count": 27,
   "metadata": {},
   "outputs": [
    {
     "name": "stdout",
     "output_type": "stream",
     "text": [
      "Notebook initialized with ipy backend.\n"
     ]
    },
    {
     "data": {
      "image/png": "[encoded data removed]"
     },
     "metadata": {},
     "output_type": "display_data"
    }
   ],
   "source": [
    "plot_vtk2('u22.vtk', 'u22.png')"
   ]
  },
  {
   "cell_type": "code",
   "execution_count": 28,
   "metadata": {},
   "outputs": [
    {
     "name": "stdout",
     "output_type": "stream",
     "text": [
      "Notebook initialized with ipy backend.\n"
     ]
    },
    {
     "data": {
      "image/png": "[encoded data removed]"
     },
     "metadata": {},
     "output_type": "display_data"
    }
   ],
   "source": [
    "plot_vtk2('u23.vtk', 'u23.png')"
   ]
  },
  {
   "cell_type": "code",
   "execution_count": 29,
   "metadata": {},
   "outputs": [
    {
     "name": "stdout",
     "output_type": "stream",
     "text": [
      "Notebook initialized with ipy backend.\n"
     ]
    },
    {
     "data": {
      "image/png": "[encoded data removed]"
     },
     "metadata": {},
     "output_type": "display_data"
    }
   ],
   "source": [
    "plot_vtk2('u24.vtk', 'u24.png')"
   ]
  },
  {
   "cell_type": "code",
   "execution_count": 30,
   "metadata": {},
   "outputs": [
    {
     "name": "stdout",
     "output_type": "stream",
     "text": [
      "Notebook initialized with ipy backend.\n"
     ]
    },
    {
     "data": {
      "image/png": "[encoded data removed]"
     },
     "metadata": {},
     "output_type": "display_data"
    }
   ],
   "source": [
    "plot_vtk2('u31.vtk', 'u31.png')"
   ]
  },
  {
   "cell_type": "code",
   "execution_count": 31,
   "metadata": {},
   "outputs": [
    {
     "name": "stdout",
     "output_type": "stream",
     "text": [
      "Notebook initialized with ipy backend.\n"
     ]
    },
    {
     "data": {
      "image/png": "[encoded data removed]"
     },
     "metadata": {},
     "output_type": "display_data"
    }
   ],
   "source": [
    "plot_vtk2('u32.vtk', 'u32.png')"
   ]
  },
  {
   "cell_type": "code",
   "execution_count": 32,
   "metadata": {},
   "outputs": [
    {
     "name": "stdout",
     "output_type": "stream",
     "text": [
      "Notebook initialized with ipy backend.\n"
     ]
    },
    {
     "data": {
      "image/png": "[encoded data removed]"
     },
     "metadata": {},
     "output_type": "display_data"
    }
   ],
   "source": [
    "plot_vtk2('u33.vtk', 'u33.png')"
   ]
  },
  {
   "cell_type": "code",
   "execution_count": 33,
   "metadata": {},
   "outputs": [
    {
     "name": "stdout",
     "output_type": "stream",
     "text": [
      "Notebook initialized with ipy backend.\n"
     ]
    },
    {
     "data": {
      "image/png": "[encoded data removed]"
     },
     "metadata": {},
     "output_type": "display_data"
    }
   ],
   "source": [
    "plot_vtk2('u34.vtk', 'u34.png')"
   ]
  },
  {
   "cell_type": "code",
   "execution_count": 34,
   "metadata": {},
   "outputs": [
    {
     "name": "stdout",
     "output_type": "stream",
     "text": [
      "Notebook initialized with ipy backend.\n"
     ]
    },
    {
     "data": {
      "image/png": "[encoded data removed]"
     },
     "metadata": {},
     "output_type": "display_data"
    }
   ],
   "source": [
    "plot_vtk2('u41.vtk', 'u41.png')"
   ]
  },
  {
   "cell_type": "code",
   "execution_count": 35,
   "metadata": {},
   "outputs": [
    {
     "name": "stdout",
     "output_type": "stream",
     "text": [
      "Notebook initialized with ipy backend.\n"
     ]
    },
    {
     "data": {
      "image/png": "[encoded data removed]"
     },
     "metadata": {},
     "output_type": "display_data"
    }
   ],
   "source": [
    "plot_vtk2('u42.vtk', 'u42.png')"
   ]
  },
  {
   "cell_type": "code",
   "execution_count": 36,
   "metadata": {},
   "outputs": [
    {
     "name": "stdout",
     "output_type": "stream",
     "text": [
      "Notebook initialized with ipy backend.\n"
     ]
    },
    {
     "data": {
      "image/png": "[encoded data removed]"
     },
     "metadata": {},
     "output_type": "display_data"
    }
   ],
   "source": [
    "plot_vtk2('u43.vtk', 'u43.png')"
   ]
  },
  {
   "cell_type": "code",
   "execution_count": 37,
   "metadata": {},
   "outputs": [
    {
     "name": "stdout",
     "output_type": "stream",
     "text": [
      "Notebook initialized with ipy backend.\n"
     ]
    },
    {
     "data": {
      "image/png": "[encoded data removed]"
     },
     "metadata": {},
     "output_type": "display_data"
    }
   ],
   "source": [
    "plot_vtk2('u44.vtk', 'u44.png')"
   ]
  },
  {
   "cell_type": "markdown",
   "metadata": {},
   "source": [
    "理論式との比較を行います。片持はりの先端のたわみ理論式は\n",
    "$$\\delta = \\dfrac{1}{3}\\dfrac{FL^{3}}{EI} $$\n",
    "計算をすると次のようになります。"
   ]
  },
  {
   "cell_type": "code",
   "execution_count": 38,
   "metadata": {},
   "outputs": [
    {
     "data": {
      "text/plain": [
       "2.048"
      ]
     },
     "execution_count": 38,
     "metadata": {},
     "output_type": "execute_result"
    }
   ],
   "source": [
    "b = 1.0\n",
    "I = b*h**3.0/12.0\n",
    "dmax = 1.0/3.0*(F*L**3)/(E*I)\n",
    "dmax"
   ]
  },
  {
   "cell_type": "markdown",
   "metadata": {},
   "source": [
    "理論解と解析結果の比較をすると次のようになります。"
   ]
  },
  {
   "cell_type": "code",
   "execution_count": 39,
   "metadata": {},
   "outputs": [
    {
     "name": "stdout",
     "output_type": "stream",
     "text": [
      "max(u11)/dmax = 0.998\n",
      "max(u12)/dmax = 1.0\n",
      "max(u13)/dmax = 1.0\n",
      "max(u14)/dmax = 1.009\n",
      "max(u21)/dmax = 0.383\n",
      "max(u22)/dmax = 0.392\n",
      "max(u23)/dmax = 0.394\n",
      "max(u24)/dmax = 0.917\n",
      "max(u31)/dmax = 4686283659225.467\n",
      "max(u32)/dmax = 1.324\n",
      "max(u33)/dmax = 1.062\n",
      "max(u34)/dmax = 1.025\n",
      "max(u41)/dmax = 1.165\n",
      "max(u42)/dmax = 1.167\n",
      "max(u43)/dmax = 1.167\n",
      "max(u44)/dmax = 1.177\n"
     ]
    }
   ],
   "source": [
    "print(\"max(u11)/dmax = {0}\".format(round(max(u11[1::2])/dmax, 3)))\n",
    "print(\"max(u12)/dmax = {0}\".format(round(max(u12[1::2])/dmax, 3)))\n",
    "print(\"max(u13)/dmax = {0}\".format(round(max(u13[1::2])/dmax, 3)))\n",
    "print(\"max(u14)/dmax = {0}\".format(round(max(u14[1::2])/dmax, 3)))\n",
    "print(\"max(u21)/dmax = {0}\".format(round(max(u21[1::2])/dmax, 3)))\n",
    "print(\"max(u22)/dmax = {0}\".format(round(max(u22[1::2])/dmax, 3)))\n",
    "print(\"max(u23)/dmax = {0}\".format(round(max(u23[1::2])/dmax, 3)))\n",
    "print(\"max(u24)/dmax = {0}\".format(round(max(u24[1::2])/dmax, 3)))\n",
    "print(\"max(u31)/dmax = {0}\".format(round(max(u31[1::2])/dmax, 3)))\n",
    "print(\"max(u32)/dmax = {0}\".format(round(max(u32[1::2])/dmax, 3)))\n",
    "print(\"max(u33)/dmax = {0}\".format(round(max(u33[1::2])/dmax, 3)))\n",
    "print(\"max(u34)/dmax = {0}\".format(round(max(u34[1::2])/dmax, 3)))\n",
    "print(\"max(u41)/dmax = {0}\".format(round(max(u41[1::2])/dmax, 3)))\n",
    "print(\"max(u42)/dmax = {0}\".format(round(max(u42[1::2])/dmax, 3)))\n",
    "print(\"max(u43)/dmax = {0}\".format(round(max(u43[1::2])/dmax, 3)))\n",
    "print(\"max(u44)/dmax = {0}\".format(round(max(u44[1::2])/dmax, 3)))"
   ]
  },
  {
   "cell_type": "code",
   "execution_count": null,
   "metadata": {},
   "outputs": [],
   "source": []
  }
 ],
 "metadata": {
  "kernelspec": {
   "display_name": "Python 3",
   "language": "python",
   "name": "python3"
  },
  "language_info": {
   "codemirror_mode": {
    "name": "ipython",
    "version": 3
   },
   "file_extension": ".py",
   "mimetype": "text/x-python",
   "name": "python",
   "nbconvert_exporter": "python",
   "pygments_lexer": "ipython3",
   "version": "3.7.5rc1"
  }
 },
 "nbformat": 4,
 "nbformat_minor": 2
}
