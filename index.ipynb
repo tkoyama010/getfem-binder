{
 "cells": [
  {
   "cell_type": "markdown",
   "metadata": {},
   "source": [
    "# 単純支持の片持ち梁での検討\n",
    "\n",
    "GetFEM++を使用して単純支持の片持ち梁に荷重を与え、理論解との比較をします。"
   ]
  },
  {
   "cell_type": "code",
   "execution_count": 1,
   "metadata": {},
   "outputs": [],
   "source": [
    "import os\n",
    "import sys\n",
    "sys.path.append('../getfem/interface/src/python/')\n",
    "import getfem as gf\n",
    "import numpy as np"
   ]
  },
  {
   "cell_type": "markdown",
   "metadata": {},
   "source": [
    "検討するケースは次の通りです。GetFEM++において下に示す有限要素法と積分をそれぞれFEM_PRODUCTとIM_PRDOCTを使用して2次元化して使用します。\n",
    "\n",
    "| ケース名 | 要素定式化       | 分割    | 有限要素法                     | 積分            |\n",
    "| -------- | ---------------- | ------- | ------------------------------ | --------------- |\n",
    "| case11   | 2次要素          | 1×4    | FEM_PK(1, 2)                   | IM_GAUSS1D(2)   |\n",
    "| case12   | 2次要素          | 2×4    | FEM_PK(1, 2)                   | IM_GAUSS1D(2)   |\n",
    "| case13   | 2次要素          | 4×4    | FEM_PK(1, 2)                   | IM_GAUSS1D(2)   |\n",
    "| case14   | 2次要素          | 8×16   | FEM_PK(1, 2)                   | IM_GAUSS1D(2)   |\n",
    "| case21   | 1次完全積分要素  | 1×4    | FEM_PK(1, 1)                   | IM_GAUSS1D(2)   |\n",
    "| case22   | 1次完全積分要素  | 2×4    | FEM_PK(1, 1)                   | IM_GAUSS1D(2)   |\n",
    "| case23   | 1次完全積分要素  | 4×4    | FEM_PK(1, 1)                   | IM_GAUSS1D(2)   |\n",
    "| case24   | 1次完全積分要素  | 8×16   | FEM_PK(1, 1)                   | IM_GAUSS1D(2)   |\n",
    "| case31   | 1次低減積分要素  | 1×4    | FEM_PK(1, 1)                   | IM_GAUSS1D(1)   |\n",
    "| case32   | 1次低減積分要素  | 2×4    | FEM_PK(1, 1)                   | IM_GAUSS1D(1)   |\n",
    "| case33   | 1次低減積分要素  | 4×4    | FEM_PK(1, 1)                   | IM_GAUSS1D(1)   |\n",
    "| case34   | 1次低減積分要素  | 8×16   | FEM_PK(1, 1)                   | IM_GAUSS1D(1)   |\n",
    "| case41   | 1次非適合要素    | 1×4    | FEM_PK_WITH_CUBIC_BUBBLE(1, 1) | IM_GAUSS1D(2)   |\n",
    "| case42   | 1次非適合要素    | 2×4    | FEM_PK_WITH_CUBIC_BUBBLE(1, 1) | IM_GAUSS1D(2)   |\n",
    "| case43   | 1次非適合要素    | 4×4    | FEM_PK_WITH_CUBIC_BUBBLE(1, 1) | IM_GAUSS1D(2)   |\n",
    "| case44   | 1次非適合要素    | 8×16   | FEM_PK_WITH_CUBIC_BUBBLE(1, 1) | IM_GAUSS1D(2)   |\n",
    "\n",
    "それでは、これらの有限要素法と積分法をそれぞれ設定します。メッシュを最初に設定します。モデル全体のサイズはX方向に10、Y方向に1とします。一般的に細長比（スレンダー比）が1:10であれば梁とみなせると言われています。(http://femingway.com/?p=1310)"
   ]
  },
  {
   "cell_type": "code",
   "execution_count": 2,
   "metadata": {},
   "outputs": [],
   "source": [
    "x = 10.0\n",
    "y = 1.0\n",
    "\n",
    "x04 = np.arange(4+1)*x/4\n",
    "x16 = np.arange(16+1)*x/16\n",
    "\n",
    "y01 = np.arange(1+1)*y/1\n",
    "y02 = np.arange(2+1)*y/2\n",
    "y04 = np.arange(4+1)*y/4\n",
    "y08 = np.arange(8+1)*y/8\n",
    "\n",
    "m0104 = gf.Mesh('cartesian', x04, y01)\n",
    "m0204 = gf.Mesh('cartesian', x04, y02)\n",
    "m0404 = gf.Mesh('cartesian', x04, y04)\n",
    "m0816 = gf.Mesh('cartesian', x16, y08)\n",
    "\n",
    "m0104.export_to_vtk('m0104.vtk')\n",
    "m0204.export_to_vtk('m0204.vtk')\n",
    "m0404.export_to_vtk('m0404.vtk')\n",
    "m0816.export_to_vtk('m0816.vtk')"
   ]
  },
  {
   "cell_type": "code",
   "execution_count": 3,
   "metadata": {},
   "outputs": [],
   "source": [
    "def plot_vtk(filename, picturename):\n",
    "    from mayavi import mlab\n",
    "    mlab.init_notebook()\n",
    "    vtk_file_reader = mlab.pipeline.open(filename)\n",
    "    extract_edges = mlab.pipeline.extract_edges(vtk_file_reader)\n",
    "    surface = mlab.pipeline.surface(extract_edges)\n",
    "    axes = mlab.axes(surface)\n",
    "    \n",
    "    mlab.show()\n",
    "    mlab.savefig(picturename)\n",
    "    mlab.clf()\n",
    "    from IPython.display import Image, display_png\n",
    "    display_png(Image(picturename))"
   ]
  },
  {
   "cell_type": "markdown",
   "metadata": {},
   "source": [
    "1×4のメッシュを表示します。"
   ]
  },
  {
   "cell_type": "code",
   "execution_count": 4,
   "metadata": {},
   "outputs": [
    {
     "name": "stdout",
     "output_type": "stream",
     "text": [
      "Notebook initialized with ipy backend.\n"
     ]
    },
    {
     "data": {
      "image/png": "[encoded data removed]"
     },
     "metadata": {},
     "output_type": "display_data"
    }
   ],
   "source": [
    "plot_vtk(filename = 'm0104.vtk', picturename = 'm0104.png')"
   ]
  },
  {
   "cell_type": "markdown",
   "metadata": {},
   "source": [
    "2×4のメッシュを表示します。"
   ]
  },
  {
   "cell_type": "code",
   "execution_count": 5,
   "metadata": {},
   "outputs": [
    {
     "name": "stdout",
     "output_type": "stream",
     "text": [
      "Notebook initialized with ipy backend.\n"
     ]
    },
    {
     "data": {
      "image/png": "[encoded data removed]"
     },
     "metadata": {},
     "output_type": "display_data"
    }
   ],
   "source": [
    "plot_vtk(filename = 'm0204.vtk', picturename = 'm0204.png')"
   ]
  },
  {
   "cell_type": "markdown",
   "metadata": {},
   "source": [
    "4×4のメッシュを表示します。"
   ]
  },
  {
   "cell_type": "code",
   "execution_count": 6,
   "metadata": {},
   "outputs": [
    {
     "name": "stdout",
     "output_type": "stream",
     "text": [
      "Notebook initialized with ipy backend.\n"
     ]
    },
    {
     "data": {
      "image/png": "[encoded data removed]"
     },
     "metadata": {},
     "output_type": "display_data"
    }
   ],
   "source": [
    "plot_vtk(filename = 'm0404.vtk', picturename = 'm0404.png')"
   ]
  },
  {
   "cell_type": "markdown",
   "metadata": {},
   "source": [
    "8×16のメッシュを表示します。"
   ]
  },
  {
   "cell_type": "code",
   "execution_count": 7,
   "metadata": {},
   "outputs": [
    {
     "name": "stdout",
     "output_type": "stream",
     "text": [
      "Notebook initialized with ipy backend.\n"
     ]
    },
    {
     "data": {
      "image/png": "[encoded data removed]"
     },
     "metadata": {},
     "output_type": "display_data"
    }
   ],
   "source": [
    "plot_vtk(filename = 'm0816.vtk', picturename = 'm0816.png')"
   ]
  },
  {
   "cell_type": "markdown",
   "metadata": {},
   "source": [
    "各メッシュの左側面にDirichlet条件を設定するための境界領域を設定します。各メッシュの右側面にNeumann条件を設定するための境界領域を設定します。"
   ]
  },
  {
   "cell_type": "code",
   "execution_count": 8,
   "metadata": {},
   "outputs": [],
   "source": [
    "flst0104 = m0104.outer_faces()\n",
    "flst0204 = m0204.outer_faces()\n",
    "flst0404 = m0404.outer_faces()\n",
    "flst0816 = m0816.outer_faces()\n",
    "\n",
    "fnor0104 = m0104.normal_of_faces(flst0104)\n",
    "fnor0204 = m0204.normal_of_faces(flst0204)\n",
    "fnor0404 = m0404.normal_of_faces(flst0404)\n",
    "fnor0816 = m0816.normal_of_faces(flst0816)\n",
    "\n",
    "tright0104 = abs(fnor0104[0, :] - 1) < 1e-14\n",
    "tright0204 = abs(fnor0204[0, :] - 1) < 1e-14\n",
    "tright0404 = abs(fnor0404[0, :] - 1) < 1e-14\n",
    "tright0816 = abs(fnor0816[0, :] - 1) < 1e-14\n",
    "\n",
    "tleft0104 = abs(fnor0104[0, :] + 1) < 1e-14\n",
    "tleft0204 = abs(fnor0204[0, :] + 1) < 1e-14\n",
    "tleft0404 = abs(fnor0404[0, :] + 1) < 1e-14\n",
    "tleft0816 = abs(fnor0816[0, :] + 1) < 1e-14\n",
    "\n",
    "fright0104 = np.compress(tright0104, flst0104, axis=1)\n",
    "fright0204 = np.compress(tright0204, flst0204, axis=1)\n",
    "fright0404 = np.compress(tright0404, flst0404, axis=1)\n",
    "fright0816 = np.compress(tright0816, flst0816, axis=1)\n",
    "\n",
    "fleft0104 = np.compress(tleft0104, flst0104, axis=1)\n",
    "fleft0204 = np.compress(tleft0204, flst0204, axis=1)\n",
    "fleft0404 = np.compress(tleft0404, flst0404, axis=1)\n",
    "fleft0816 = np.compress(tleft0816, flst0816, axis=1)\n",
    "\n",
    "right = 1\n",
    "left = 2\n",
    "\n",
    "m0104.set_region(right, fright0104)\n",
    "m0204.set_region(right, fright0204)\n",
    "m0404.set_region(right, fright0404)\n",
    "m0816.set_region(right, fright0816)\n",
    "\n",
    "m0104.set_region(left, fleft0104)\n",
    "m0204.set_region(left, fleft0204)\n",
    "m0404.set_region(left, fleft0404)\n",
    "m0816.set_region(left, fleft0816)"
   ]
  },
  {
   "cell_type": "markdown",
   "metadata": {},
   "source": [
    "MeshFEMオブジェクトを作成し各メッシュと有限要素法を関連付けます。"
   ]
  },
  {
   "cell_type": "code",
   "execution_count": 9,
   "metadata": {},
   "outputs": [],
   "source": [
    "mfu11 = gf.MeshFem(m0104, 2)\n",
    "mfu12 = gf.MeshFem(m0204, 2)\n",
    "mfu13 = gf.MeshFem(m0404, 2)\n",
    "mfu14 = gf.MeshFem(m0816, 2)\n",
    "mfu21 = gf.MeshFem(m0104, 2)\n",
    "mfu22 = gf.MeshFem(m0204, 2)\n",
    "mfu23 = gf.MeshFem(m0404, 2)\n",
    "mfu24 = gf.MeshFem(m0816, 2)\n",
    "mfu31 = gf.MeshFem(m0104, 2)\n",
    "mfu32 = gf.MeshFem(m0204, 2)\n",
    "mfu33 = gf.MeshFem(m0404, 2)\n",
    "mfu34 = gf.MeshFem(m0816, 2)\n",
    "mfu41 = gf.MeshFem(m0104, 2)\n",
    "mfu42 = gf.MeshFem(m0204, 2)\n",
    "mfu43 = gf.MeshFem(m0404, 2)\n",
    "mfu44 = gf.MeshFem(m0816, 2)\n",
    "\n",
    "fem1 = gf.Fem('FEM_PRODUCT(FEM_PK(1, 2), FEM_PK(1, 2))') # 2次要素\n",
    "fem2 = gf.Fem('FEM_PRODUCT(FEM_PK(1, 1), FEM_PK(1, 1))') # 1次要素\n",
    "fem3 = gf.Fem('FEM_PRODUCT(FEM_PK_WITH_CUBIC_BUBBLE(1, 1), FEM_PK_WITH_CUBIC_BUBBLE(1, 1))') # 非適合要素\n",
    "\n",
    "mfu11.set_fem(fem1)\n",
    "mfu12.set_fem(fem1)\n",
    "mfu13.set_fem(fem1)\n",
    "mfu14.set_fem(fem1)\n",
    "mfu21.set_fem(fem2)\n",
    "mfu22.set_fem(fem2)\n",
    "mfu23.set_fem(fem2)\n",
    "mfu24.set_fem(fem2)\n",
    "mfu31.set_fem(fem2)\n",
    "mfu32.set_fem(fem2)\n",
    "mfu33.set_fem(fem2)\n",
    "mfu34.set_fem(fem2)\n",
    "mfu41.set_fem(fem3)\n",
    "mfu42.set_fem(fem3)\n",
    "mfu43.set_fem(fem3)\n",
    "mfu44.set_fem(fem3)"
   ]
  },
  {
   "cell_type": "markdown",
   "metadata": {},
   "source": [
    "積分法を定義します。"
   ]
  },
  {
   "cell_type": "code",
   "execution_count": 10,
   "metadata": {},
   "outputs": [],
   "source": [
    "inm1 = gf.Integ('IM_PRODUCT(IM_GAUSS1D(2), IM_GAUSS1D(2))')\n",
    "inm2 = gf.Integ('IM_PRODUCT(IM_GAUSS1D(1), IM_GAUSS1D(1))')\n",
    "\n",
    "mim11 = gf.MeshIm(m0104, inm1)\n",
    "mim12 = gf.MeshIm(m0204, inm1)\n",
    "mim13 = gf.MeshIm(m0404, inm1)\n",
    "mim14 = gf.MeshIm(m0816, inm1)\n",
    "mim21 = gf.MeshIm(m0104, inm1)\n",
    "mim22 = gf.MeshIm(m0204, inm1)\n",
    "mim23 = gf.MeshIm(m0404, inm1)\n",
    "mim24 = gf.MeshIm(m0816, inm1)\n",
    "mim31 = gf.MeshIm(m0104, inm2)\n",
    "mim32 = gf.MeshIm(m0204, inm2)\n",
    "mim33 = gf.MeshIm(m0404, inm2)\n",
    "mim34 = gf.MeshIm(m0816, inm2)\n",
    "mim41 = gf.MeshIm(m0104, inm1)\n",
    "mim42 = gf.MeshIm(m0204, inm1)\n",
    "mim43 = gf.MeshIm(m0404, inm1)\n",
    "mim44 = gf.MeshIm(m0816, inm1)"
   ]
  },
  {
   "cell_type": "markdown",
   "metadata": {},
   "source": [
    "モデルを定義し、各ケースの変数を追加します。"
   ]
  },
  {
   "cell_type": "code",
   "execution_count": 11,
   "metadata": {},
   "outputs": [],
   "source": [
    "md = gf.Model('real')"
   ]
  },
  {
   "cell_type": "code",
   "execution_count": 12,
   "metadata": {},
   "outputs": [],
   "source": [
    "md.add_fem_variable('u11', mfu11)\n",
    "md.add_fem_variable('u12', mfu12)\n",
    "md.add_fem_variable('u13', mfu13)\n",
    "md.add_fem_variable('u14', mfu14)\n",
    "md.add_fem_variable('u21', mfu21)\n",
    "md.add_fem_variable('u22', mfu22)\n",
    "md.add_fem_variable('u23', mfu23)\n",
    "md.add_fem_variable('u24', mfu24)\n",
    "md.add_fem_variable('u31', mfu31)\n",
    "md.add_fem_variable('u32', mfu32)\n",
    "md.add_fem_variable('u33', mfu33)\n",
    "md.add_fem_variable('u34', mfu34)\n",
    "md.add_fem_variable('u41', mfu41)\n",
    "md.add_fem_variable('u42', mfu42)\n",
    "md.add_fem_variable('u43', mfu43)\n",
    "md.add_fem_variable('u44', mfu44)"
   ]
  },
  {
   "cell_type": "markdown",
   "metadata": {},
   "source": [
    "各変位に対し剛性行列を追加します。ヤング率を$E = 1.0 \\times 10^3$ポアソン比を$\\nu = 0.3$とします。"
   ]
  },
  {
   "cell_type": "code",
   "execution_count": 13,
   "metadata": {},
   "outputs": [],
   "source": [
    "E = 1e3\n",
    "Nu = 0.3\n",
    "Lambda = E*Nu/((1+Nu)*(1-2*Nu))\n",
    "Mu = E/(2*(1+Nu))\n",
    "\n",
    "md.add_initialized_data('cmu', Mu)\n",
    "md.add_initialized_data('clambda', Lambda)"
   ]
  },
  {
   "cell_type": "code",
   "execution_count": 14,
   "metadata": {},
   "outputs": [
    {
     "data": {
      "text/plain": [
       "15"
      ]
     },
     "execution_count": 14,
     "metadata": {},
     "output_type": "execute_result"
    }
   ],
   "source": [
    "md.add_isotropic_linearized_elasticity_brick(mim11, 'u11', 'clambda', 'cmu')\n",
    "md.add_isotropic_linearized_elasticity_brick(mim12, 'u12', 'clambda', 'cmu')\n",
    "md.add_isotropic_linearized_elasticity_brick(mim13, 'u13', 'clambda', 'cmu')\n",
    "md.add_isotropic_linearized_elasticity_brick(mim14, 'u14', 'clambda', 'cmu')\n",
    "md.add_isotropic_linearized_elasticity_brick(mim21, 'u21', 'clambda', 'cmu')\n",
    "md.add_isotropic_linearized_elasticity_brick(mim22, 'u22', 'clambda', 'cmu')\n",
    "md.add_isotropic_linearized_elasticity_brick(mim23, 'u23', 'clambda', 'cmu')\n",
    "md.add_isotropic_linearized_elasticity_brick(mim24, 'u24', 'clambda', 'cmu')\n",
    "md.add_isotropic_linearized_elasticity_brick(mim31, 'u31', 'clambda', 'cmu')\n",
    "md.add_isotropic_linearized_elasticity_brick(mim32, 'u32', 'clambda', 'cmu')\n",
    "md.add_isotropic_linearized_elasticity_brick(mim33, 'u33', 'clambda', 'cmu')\n",
    "md.add_isotropic_linearized_elasticity_brick(mim34, 'u34', 'clambda', 'cmu')\n",
    "md.add_isotropic_linearized_elasticity_brick(mim41, 'u41', 'clambda', 'cmu')\n",
    "md.add_isotropic_linearized_elasticity_brick(mim42, 'u42', 'clambda', 'cmu')\n",
    "md.add_isotropic_linearized_elasticity_brick(mim43, 'u43', 'clambda', 'cmu')\n",
    "md.add_isotropic_linearized_elasticity_brick(mim44, 'u44', 'clambda', 'cmu')"
   ]
  },
  {
   "cell_type": "markdown",
   "metadata": {},
   "source": [
    "各変数について、左側面にDirichlet境界条件を設定します。"
   ]
  },
  {
   "cell_type": "code",
   "execution_count": 15,
   "metadata": {},
   "outputs": [
    {
     "data": {
      "text/plain": [
       "31"
      ]
     },
     "execution_count": 15,
     "metadata": {},
     "output_type": "execute_result"
    }
   ],
   "source": [
    "md.add_Dirichlet_condition_with_multipliers(mim11, 'u11', mfu11, left)\n",
    "md.add_Dirichlet_condition_with_multipliers(mim12, 'u12', mfu12, left)\n",
    "md.add_Dirichlet_condition_with_multipliers(mim13, 'u13', mfu13, left)\n",
    "md.add_Dirichlet_condition_with_multipliers(mim14, 'u14', mfu14, left)\n",
    "md.add_Dirichlet_condition_with_multipliers(mim21, 'u21', mfu21, left)\n",
    "md.add_Dirichlet_condition_with_multipliers(mim22, 'u22', mfu22, left)\n",
    "md.add_Dirichlet_condition_with_multipliers(mim23, 'u23', mfu23, left)\n",
    "md.add_Dirichlet_condition_with_multipliers(mim24, 'u24', mfu24, left)\n",
    "md.add_Dirichlet_condition_with_multipliers(mim31, 'u31', mfu31, left)\n",
    "md.add_Dirichlet_condition_with_multipliers(mim32, 'u32', mfu32, left)\n",
    "md.add_Dirichlet_condition_with_multipliers(mim33, 'u33', mfu33, left)\n",
    "md.add_Dirichlet_condition_with_multipliers(mim34, 'u34', mfu34, left)\n",
    "md.add_Dirichlet_condition_with_multipliers(mim41, 'u41', mfu41, left)\n",
    "md.add_Dirichlet_condition_with_multipliers(mim42, 'u42', mfu42, left)\n",
    "md.add_Dirichlet_condition_with_multipliers(mim43, 'u43', mfu43, left)\n",
    "md.add_Dirichlet_condition_with_multipliers(mim44, 'u44', mfu44, left)"
   ]
  },
  {
   "cell_type": "markdown",
   "metadata": {},
   "source": [
    "各変数について、右側面にNeumann境界条件を設定します。"
   ]
  },
  {
   "cell_type": "code",
   "execution_count": 16,
   "metadata": {},
   "outputs": [],
   "source": [
    "md.add_fem_data('F11', mfu11)\n",
    "md.add_fem_data('F12', mfu12)\n",
    "md.add_fem_data('F13', mfu13)\n",
    "md.add_fem_data('F14', mfu14)\n",
    "md.add_fem_data('F21', mfu21)\n",
    "md.add_fem_data('F22', mfu22)\n",
    "md.add_fem_data('F23', mfu23)\n",
    "md.add_fem_data('F24', mfu24)\n",
    "md.add_fem_data('F31', mfu31)\n",
    "md.add_fem_data('F32', mfu32)\n",
    "md.add_fem_data('F33', mfu33)\n",
    "md.add_fem_data('F34', mfu34)\n",
    "md.add_fem_data('F41', mfu41)\n",
    "md.add_fem_data('F42', mfu42)\n",
    "md.add_fem_data('F43', mfu43)\n",
    "md.add_fem_data('F44', mfu44)"
   ]
  },
  {
   "cell_type": "code",
   "execution_count": 17,
   "metadata": {},
   "outputs": [],
   "source": [
    "md.set_variable('F11', np.ones(mfu11.nbdof()))\n",
    "md.set_variable('F12', np.ones(mfu12.nbdof()))\n",
    "md.set_variable('F13', np.ones(mfu13.nbdof()))\n",
    "md.set_variable('F14', np.ones(mfu14.nbdof()))\n",
    "md.set_variable('F21', np.ones(mfu21.nbdof()))\n",
    "md.set_variable('F22', np.ones(mfu22.nbdof()))\n",
    "md.set_variable('F23', np.ones(mfu23.nbdof()))\n",
    "md.set_variable('F24', np.ones(mfu24.nbdof()))\n",
    "md.set_variable('F31', np.ones(mfu31.nbdof()))\n",
    "md.set_variable('F32', np.ones(mfu32.nbdof()))\n",
    "md.set_variable('F33', np.ones(mfu33.nbdof()))\n",
    "md.set_variable('F34', np.ones(mfu34.nbdof()))\n",
    "md.set_variable('F41', np.ones(mfu41.nbdof()))\n",
    "md.set_variable('F42', np.ones(mfu42.nbdof()))\n",
    "md.set_variable('F43', np.ones(mfu43.nbdof()))\n",
    "md.set_variable('F44', np.ones(mfu44.nbdof()))"
   ]
  },
  {
   "cell_type": "code",
   "execution_count": 18,
   "metadata": {},
   "outputs": [
    {
     "data": {
      "text/plain": [
       "47"
      ]
     },
     "execution_count": 18,
     "metadata": {},
     "output_type": "execute_result"
    }
   ],
   "source": [
    "md.add_source_term_brick(mim11, 'u11', 'F11', right)\n",
    "md.add_source_term_brick(mim12, 'u12', 'F12', right)\n",
    "md.add_source_term_brick(mim13, 'u13', 'F13', right)\n",
    "md.add_source_term_brick(mim14, 'u14', 'F14', right)\n",
    "md.add_source_term_brick(mim21, 'u21', 'F21', right)\n",
    "md.add_source_term_brick(mim22, 'u22', 'F22', right)\n",
    "md.add_source_term_brick(mim23, 'u23', 'F23', right)\n",
    "md.add_source_term_brick(mim24, 'u24', 'F24', right)\n",
    "md.add_source_term_brick(mim31, 'u31', 'F31', right)\n",
    "md.add_source_term_brick(mim32, 'u32', 'F32', right)\n",
    "md.add_source_term_brick(mim33, 'u33', 'F33', right)\n",
    "md.add_source_term_brick(mim34, 'u34', 'F34', right)\n",
    "md.add_source_term_brick(mim41, 'u41', 'F41', right)\n",
    "md.add_source_term_brick(mim42, 'u42', 'F42', right)\n",
    "md.add_source_term_brick(mim43, 'u43', 'F43', right)\n",
    "md.add_source_term_brick(mim44, 'u44', 'F44', right)"
   ]
  },
  {
   "cell_type": "markdown",
   "metadata": {},
   "source": [
    "各変数に対して構築したためモデルmdを解きます。"
   ]
  },
  {
   "cell_type": "code",
   "execution_count": 19,
   "metadata": {},
   "outputs": [
    {
     "data": {
      "text/plain": [
       "(0, 1)"
      ]
     },
     "execution_count": 19,
     "metadata": {},
     "output_type": "execute_result"
    }
   ],
   "source": [
    "md.solve()"
   ]
  },
  {
   "cell_type": "code",
   "execution_count": 20,
   "metadata": {},
   "outputs": [],
   "source": [
    "u11 = md.variable('u11')\n",
    "u12 = md.variable('u12')\n",
    "u13 = md.variable('u13')\n",
    "u14 = md.variable('u14')\n",
    "u21 = md.variable('u21')\n",
    "u22 = md.variable('u22')\n",
    "u23 = md.variable('u23')\n",
    "u24 = md.variable('u24')\n",
    "u31 = md.variable('u31')\n",
    "u32 = md.variable('u32')\n",
    "u33 = md.variable('u33')\n",
    "u34 = md.variable('u34')\n",
    "u41 = md.variable('u41')\n",
    "u42 = md.variable('u42')\n",
    "u43 = md.variable('u43')\n",
    "u44 = md.variable('u44')"
   ]
  },
  {
   "cell_type": "code",
   "execution_count": 21,
   "metadata": {},
   "outputs": [],
   "source": [
    "mfu11.export_to_vtk('u11.vtk', mfu11, u11, 'u11')\n",
    "mfu12.export_to_vtk('u12.vtk', mfu12, u12, 'u12')\n",
    "mfu13.export_to_vtk('u13.vtk', mfu13, u13, 'u13')\n",
    "mfu14.export_to_vtk('u14.vtk', mfu14, u14, 'u14')\n",
    "mfu21.export_to_vtk('u21.vtk', mfu21, u21, 'u21')\n",
    "mfu22.export_to_vtk('u22.vtk', mfu22, u22, 'u22')\n",
    "mfu23.export_to_vtk('u23.vtk', mfu23, u23, 'u23')\n",
    "mfu24.export_to_vtk('u24.vtk', mfu24, u24, 'u24')\n",
    "mfu31.export_to_vtk('u31.vtk', mfu31, u31, 'u31')\n",
    "mfu32.export_to_vtk('u32.vtk', mfu32, u32, 'u32')\n",
    "mfu33.export_to_vtk('u33.vtk', mfu33, u33, 'u33')\n",
    "mfu34.export_to_vtk('u34.vtk', mfu34, u34, 'u34')\n",
    "mfu41.export_to_vtk('u41.vtk', mfu41, u41, 'u41')\n",
    "mfu42.export_to_vtk('u42.vtk', mfu42, u42, 'u42')\n",
    "mfu43.export_to_vtk('u43.vtk', mfu43, u43, 'u43')\n",
    "mfu44.export_to_vtk('u44.vtk', mfu44, u44, 'u44')"
   ]
  },
  {
   "cell_type": "code",
   "execution_count": null,
   "metadata": {},
   "outputs": [],
   "source": []
  }
 ],
 "metadata": {
  "kernelspec": {
   "display_name": "Python 3",
   "language": "python",
   "name": "python3"
  },
  "language_info": {
   "codemirror_mode": {
    "name": "ipython",
    "version": 3
   },
   "file_extension": ".py",
   "mimetype": "text/x-python",
   "name": "python",
   "nbconvert_exporter": "python",
   "pygments_lexer": "ipython3",
   "version": "3.7.1"
  }
 },
 "nbformat": 4,
 "nbformat_minor": 2
}
